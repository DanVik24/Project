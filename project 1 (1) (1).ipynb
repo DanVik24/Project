{
 "cells": [
  {
   "cell_type": "markdown",
   "id": "611c0993",
   "metadata": {},
   "source": [
    "# Исследование объявлений о продаже квартир\n",
    "## Цель исследования:\n",
    "        Провести иследование данных о квартирах в Иркутске предоставленных сайтом Циан.\n",
    "## Задачи исследования:\n",
    "        Доказать, что цена за квадратный метр зависит от района продажи квартиры \n",
    "## Декомпозиция работы:\n",
    "        1. Подготовка данных \n",
    "        2. Предобработка данных\n",
    "        3. Анализ данных\n",
    "        4. Визуализация данных\n",
    "        5. Вывод о задачах исследования"
   ]
  },
  {
   "cell_type": "markdown",
   "id": "ee06d512",
   "metadata": {},
   "source": [
    "### 1. Подготовка данных "
   ]
  },
  {
   "cell_type": "code",
   "execution_count": 8,
   "id": "0762bb1a",
   "metadata": {},
   "outputs": [
    {
     "ename": "TypeError",
     "evalue": "Expected file path name or file-like object, got <class 'bytes'> type",
     "output_type": "error",
     "traceback": [
      "\u001b[1;31m---------------------------------------------------------------------------\u001b[0m",
      "\u001b[1;31mTypeError\u001b[0m                                 Traceback (most recent call last)",
      "Cell \u001b[1;32mIn[8], line 18\u001b[0m\n\u001b[0;32m     16\u001b[0m url \u001b[38;5;241m=\u001b[39m \u001b[38;5;124m\"\u001b[39m\u001b[38;5;124mhttps://github.com/DanVik24/Project/blob/main/flat_3.csv\u001b[39m\u001b[38;5;124m\"\u001b[39m\n\u001b[0;32m     17\u001b[0m s \u001b[38;5;241m=\u001b[39m requests\u001b[38;5;241m.\u001b[39mget(url)\u001b[38;5;241m.\u001b[39mcontent\n\u001b[1;32m---> 18\u001b[0m data \u001b[38;5;241m=\u001b[39m \u001b[43mpd\u001b[49m\u001b[38;5;241;43m.\u001b[39;49m\u001b[43mread_csv\u001b[49m\u001b[43m(\u001b[49m\u001b[43ms\u001b[49m\u001b[43m)\u001b[49m\n\u001b[0;32m     20\u001b[0m display(data\u001b[38;5;241m.\u001b[39mhead())\n",
      "File \u001b[1;32m~\\anaconda3\\lib\\site-packages\\pandas\\io\\parsers\\readers.py:948\u001b[0m, in \u001b[0;36mread_csv\u001b[1;34m(filepath_or_buffer, sep, delimiter, header, names, index_col, usecols, dtype, engine, converters, true_values, false_values, skipinitialspace, skiprows, skipfooter, nrows, na_values, keep_default_na, na_filter, verbose, skip_blank_lines, parse_dates, infer_datetime_format, keep_date_col, date_parser, date_format, dayfirst, cache_dates, iterator, chunksize, compression, thousands, decimal, lineterminator, quotechar, quoting, doublequote, escapechar, comment, encoding, encoding_errors, dialect, on_bad_lines, delim_whitespace, low_memory, memory_map, float_precision, storage_options, dtype_backend)\u001b[0m\n\u001b[0;32m    935\u001b[0m kwds_defaults \u001b[38;5;241m=\u001b[39m _refine_defaults_read(\n\u001b[0;32m    936\u001b[0m     dialect,\n\u001b[0;32m    937\u001b[0m     delimiter,\n\u001b[1;32m   (...)\u001b[0m\n\u001b[0;32m    944\u001b[0m     dtype_backend\u001b[38;5;241m=\u001b[39mdtype_backend,\n\u001b[0;32m    945\u001b[0m )\n\u001b[0;32m    946\u001b[0m kwds\u001b[38;5;241m.\u001b[39mupdate(kwds_defaults)\n\u001b[1;32m--> 948\u001b[0m \u001b[38;5;28;01mreturn\u001b[39;00m \u001b[43m_read\u001b[49m\u001b[43m(\u001b[49m\u001b[43mfilepath_or_buffer\u001b[49m\u001b[43m,\u001b[49m\u001b[43m \u001b[49m\u001b[43mkwds\u001b[49m\u001b[43m)\u001b[49m\n",
      "File \u001b[1;32m~\\anaconda3\\lib\\site-packages\\pandas\\io\\parsers\\readers.py:611\u001b[0m, in \u001b[0;36m_read\u001b[1;34m(filepath_or_buffer, kwds)\u001b[0m\n\u001b[0;32m    608\u001b[0m _validate_names(kwds\u001b[38;5;241m.\u001b[39mget(\u001b[38;5;124m\"\u001b[39m\u001b[38;5;124mnames\u001b[39m\u001b[38;5;124m\"\u001b[39m, \u001b[38;5;28;01mNone\u001b[39;00m))\n\u001b[0;32m    610\u001b[0m \u001b[38;5;66;03m# Create the parser.\u001b[39;00m\n\u001b[1;32m--> 611\u001b[0m parser \u001b[38;5;241m=\u001b[39m TextFileReader(filepath_or_buffer, \u001b[38;5;241m*\u001b[39m\u001b[38;5;241m*\u001b[39mkwds)\n\u001b[0;32m    613\u001b[0m \u001b[38;5;28;01mif\u001b[39;00m chunksize \u001b[38;5;129;01mor\u001b[39;00m iterator:\n\u001b[0;32m    614\u001b[0m     \u001b[38;5;28;01mreturn\u001b[39;00m parser\n",
      "File \u001b[1;32m~\\anaconda3\\lib\\site-packages\\pandas\\io\\parsers\\readers.py:1448\u001b[0m, in \u001b[0;36mTextFileReader.__init__\u001b[1;34m(self, f, engine, **kwds)\u001b[0m\n\u001b[0;32m   1445\u001b[0m     \u001b[38;5;28mself\u001b[39m\u001b[38;5;241m.\u001b[39moptions[\u001b[38;5;124m\"\u001b[39m\u001b[38;5;124mhas_index_names\u001b[39m\u001b[38;5;124m\"\u001b[39m] \u001b[38;5;241m=\u001b[39m kwds[\u001b[38;5;124m\"\u001b[39m\u001b[38;5;124mhas_index_names\u001b[39m\u001b[38;5;124m\"\u001b[39m]\n\u001b[0;32m   1447\u001b[0m \u001b[38;5;28mself\u001b[39m\u001b[38;5;241m.\u001b[39mhandles: IOHandles \u001b[38;5;241m|\u001b[39m \u001b[38;5;28;01mNone\u001b[39;00m \u001b[38;5;241m=\u001b[39m \u001b[38;5;28;01mNone\u001b[39;00m\n\u001b[1;32m-> 1448\u001b[0m \u001b[38;5;28mself\u001b[39m\u001b[38;5;241m.\u001b[39m_engine \u001b[38;5;241m=\u001b[39m \u001b[38;5;28;43mself\u001b[39;49m\u001b[38;5;241;43m.\u001b[39;49m\u001b[43m_make_engine\u001b[49m\u001b[43m(\u001b[49m\u001b[43mf\u001b[49m\u001b[43m,\u001b[49m\u001b[43m \u001b[49m\u001b[38;5;28;43mself\u001b[39;49m\u001b[38;5;241;43m.\u001b[39;49m\u001b[43mengine\u001b[49m\u001b[43m)\u001b[49m\n",
      "File \u001b[1;32m~\\anaconda3\\lib\\site-packages\\pandas\\io\\parsers\\readers.py:1705\u001b[0m, in \u001b[0;36mTextFileReader._make_engine\u001b[1;34m(self, f, engine)\u001b[0m\n\u001b[0;32m   1703\u001b[0m     \u001b[38;5;28;01mif\u001b[39;00m \u001b[38;5;124m\"\u001b[39m\u001b[38;5;124mb\u001b[39m\u001b[38;5;124m\"\u001b[39m \u001b[38;5;129;01mnot\u001b[39;00m \u001b[38;5;129;01min\u001b[39;00m mode:\n\u001b[0;32m   1704\u001b[0m         mode \u001b[38;5;241m+\u001b[39m\u001b[38;5;241m=\u001b[39m \u001b[38;5;124m\"\u001b[39m\u001b[38;5;124mb\u001b[39m\u001b[38;5;124m\"\u001b[39m\n\u001b[1;32m-> 1705\u001b[0m \u001b[38;5;28mself\u001b[39m\u001b[38;5;241m.\u001b[39mhandles \u001b[38;5;241m=\u001b[39m \u001b[43mget_handle\u001b[49m\u001b[43m(\u001b[49m\n\u001b[0;32m   1706\u001b[0m \u001b[43m    \u001b[49m\u001b[43mf\u001b[49m\u001b[43m,\u001b[49m\n\u001b[0;32m   1707\u001b[0m \u001b[43m    \u001b[49m\u001b[43mmode\u001b[49m\u001b[43m,\u001b[49m\n\u001b[0;32m   1708\u001b[0m \u001b[43m    \u001b[49m\u001b[43mencoding\u001b[49m\u001b[38;5;241;43m=\u001b[39;49m\u001b[38;5;28;43mself\u001b[39;49m\u001b[38;5;241;43m.\u001b[39;49m\u001b[43moptions\u001b[49m\u001b[38;5;241;43m.\u001b[39;49m\u001b[43mget\u001b[49m\u001b[43m(\u001b[49m\u001b[38;5;124;43m\"\u001b[39;49m\u001b[38;5;124;43mencoding\u001b[39;49m\u001b[38;5;124;43m\"\u001b[39;49m\u001b[43m,\u001b[49m\u001b[43m \u001b[49m\u001b[38;5;28;43;01mNone\u001b[39;49;00m\u001b[43m)\u001b[49m\u001b[43m,\u001b[49m\n\u001b[0;32m   1709\u001b[0m \u001b[43m    \u001b[49m\u001b[43mcompression\u001b[49m\u001b[38;5;241;43m=\u001b[39;49m\u001b[38;5;28;43mself\u001b[39;49m\u001b[38;5;241;43m.\u001b[39;49m\u001b[43moptions\u001b[49m\u001b[38;5;241;43m.\u001b[39;49m\u001b[43mget\u001b[49m\u001b[43m(\u001b[49m\u001b[38;5;124;43m\"\u001b[39;49m\u001b[38;5;124;43mcompression\u001b[39;49m\u001b[38;5;124;43m\"\u001b[39;49m\u001b[43m,\u001b[49m\u001b[43m \u001b[49m\u001b[38;5;28;43;01mNone\u001b[39;49;00m\u001b[43m)\u001b[49m\u001b[43m,\u001b[49m\n\u001b[0;32m   1710\u001b[0m \u001b[43m    \u001b[49m\u001b[43mmemory_map\u001b[49m\u001b[38;5;241;43m=\u001b[39;49m\u001b[38;5;28;43mself\u001b[39;49m\u001b[38;5;241;43m.\u001b[39;49m\u001b[43moptions\u001b[49m\u001b[38;5;241;43m.\u001b[39;49m\u001b[43mget\u001b[49m\u001b[43m(\u001b[49m\u001b[38;5;124;43m\"\u001b[39;49m\u001b[38;5;124;43mmemory_map\u001b[39;49m\u001b[38;5;124;43m\"\u001b[39;49m\u001b[43m,\u001b[49m\u001b[43m \u001b[49m\u001b[38;5;28;43;01mFalse\u001b[39;49;00m\u001b[43m)\u001b[49m\u001b[43m,\u001b[49m\n\u001b[0;32m   1711\u001b[0m \u001b[43m    \u001b[49m\u001b[43mis_text\u001b[49m\u001b[38;5;241;43m=\u001b[39;49m\u001b[43mis_text\u001b[49m\u001b[43m,\u001b[49m\n\u001b[0;32m   1712\u001b[0m \u001b[43m    \u001b[49m\u001b[43merrors\u001b[49m\u001b[38;5;241;43m=\u001b[39;49m\u001b[38;5;28;43mself\u001b[39;49m\u001b[38;5;241;43m.\u001b[39;49m\u001b[43moptions\u001b[49m\u001b[38;5;241;43m.\u001b[39;49m\u001b[43mget\u001b[49m\u001b[43m(\u001b[49m\u001b[38;5;124;43m\"\u001b[39;49m\u001b[38;5;124;43mencoding_errors\u001b[39;49m\u001b[38;5;124;43m\"\u001b[39;49m\u001b[43m,\u001b[49m\u001b[43m \u001b[49m\u001b[38;5;124;43m\"\u001b[39;49m\u001b[38;5;124;43mstrict\u001b[39;49m\u001b[38;5;124;43m\"\u001b[39;49m\u001b[43m)\u001b[49m\u001b[43m,\u001b[49m\n\u001b[0;32m   1713\u001b[0m \u001b[43m    \u001b[49m\u001b[43mstorage_options\u001b[49m\u001b[38;5;241;43m=\u001b[39;49m\u001b[38;5;28;43mself\u001b[39;49m\u001b[38;5;241;43m.\u001b[39;49m\u001b[43moptions\u001b[49m\u001b[38;5;241;43m.\u001b[39;49m\u001b[43mget\u001b[49m\u001b[43m(\u001b[49m\u001b[38;5;124;43m\"\u001b[39;49m\u001b[38;5;124;43mstorage_options\u001b[39;49m\u001b[38;5;124;43m\"\u001b[39;49m\u001b[43m,\u001b[49m\u001b[43m \u001b[49m\u001b[38;5;28;43;01mNone\u001b[39;49;00m\u001b[43m)\u001b[49m\u001b[43m,\u001b[49m\n\u001b[0;32m   1714\u001b[0m \u001b[43m\u001b[49m\u001b[43m)\u001b[49m\n\u001b[0;32m   1715\u001b[0m \u001b[38;5;28;01massert\u001b[39;00m \u001b[38;5;28mself\u001b[39m\u001b[38;5;241m.\u001b[39mhandles \u001b[38;5;129;01mis\u001b[39;00m \u001b[38;5;129;01mnot\u001b[39;00m \u001b[38;5;28;01mNone\u001b[39;00m\n\u001b[0;32m   1716\u001b[0m f \u001b[38;5;241m=\u001b[39m \u001b[38;5;28mself\u001b[39m\u001b[38;5;241m.\u001b[39mhandles\u001b[38;5;241m.\u001b[39mhandle\n",
      "File \u001b[1;32m~\\anaconda3\\lib\\site-packages\\pandas\\io\\common.py:907\u001b[0m, in \u001b[0;36mget_handle\u001b[1;34m(path_or_buf, mode, encoding, compression, memory_map, is_text, errors, storage_options)\u001b[0m\n\u001b[0;32m    902\u001b[0m     is_wrapped \u001b[38;5;241m=\u001b[39m \u001b[38;5;129;01mnot\u001b[39;00m (\n\u001b[0;32m    903\u001b[0m         \u001b[38;5;28misinstance\u001b[39m(ioargs\u001b[38;5;241m.\u001b[39mfilepath_or_buffer, \u001b[38;5;28mstr\u001b[39m) \u001b[38;5;129;01mor\u001b[39;00m ioargs\u001b[38;5;241m.\u001b[39mshould_close\n\u001b[0;32m    904\u001b[0m     )\n\u001b[0;32m    906\u001b[0m \u001b[38;5;28;01mif\u001b[39;00m \u001b[38;5;124m\"\u001b[39m\u001b[38;5;124mr\u001b[39m\u001b[38;5;124m\"\u001b[39m \u001b[38;5;129;01min\u001b[39;00m ioargs\u001b[38;5;241m.\u001b[39mmode \u001b[38;5;129;01mand\u001b[39;00m \u001b[38;5;129;01mnot\u001b[39;00m \u001b[38;5;28mhasattr\u001b[39m(handle, \u001b[38;5;124m\"\u001b[39m\u001b[38;5;124mread\u001b[39m\u001b[38;5;124m\"\u001b[39m):\n\u001b[1;32m--> 907\u001b[0m     \u001b[38;5;28;01mraise\u001b[39;00m \u001b[38;5;167;01mTypeError\u001b[39;00m(\n\u001b[0;32m    908\u001b[0m         \u001b[38;5;124m\"\u001b[39m\u001b[38;5;124mExpected file path name or file-like object, \u001b[39m\u001b[38;5;124m\"\u001b[39m\n\u001b[0;32m    909\u001b[0m         \u001b[38;5;124mf\u001b[39m\u001b[38;5;124m\"\u001b[39m\u001b[38;5;124mgot \u001b[39m\u001b[38;5;132;01m{\u001b[39;00m\u001b[38;5;28mtype\u001b[39m(ioargs\u001b[38;5;241m.\u001b[39mfilepath_or_buffer)\u001b[38;5;132;01m}\u001b[39;00m\u001b[38;5;124m type\u001b[39m\u001b[38;5;124m\"\u001b[39m\n\u001b[0;32m    910\u001b[0m     )\n\u001b[0;32m    912\u001b[0m handles\u001b[38;5;241m.\u001b[39mreverse()  \u001b[38;5;66;03m# close the most recently added buffer first\u001b[39;00m\n\u001b[0;32m    913\u001b[0m \u001b[38;5;28;01mif\u001b[39;00m ioargs\u001b[38;5;241m.\u001b[39mshould_close:\n",
      "\u001b[1;31mTypeError\u001b[0m: Expected file path name or file-like object, got <class 'bytes'> type"
     ]
    }
   ],
   "source": [
    "#Импортируем библиотеки\n",
    "import pandas as pd\n",
    "import matplotlib.pyplot as plt\n",
    "import plotly.express as px\n",
    "import requests\n",
    "import io\n",
    "# импорт библиотек для отоброжения графика на гитхаб\n",
    "# import plotly.io as pio\n",
    "# pio.renderers.default='notebook'\n",
    "\n",
    "#показать всю информацию в колонках \n",
    "pd.set_option('display.max_colwidth', None)\n",
    "\n",
    "#Загружаем данные \n",
    "# data = pd.read_csv('C:/Users/admin/all/flat_3.csv', sep=';')\n",
    "url = \"https://github.com/DanVik24/Project/blob/main/flat_3.csv\"\n",
    "s = requests.get(url).content\n",
    "data = pd.read_csv(s)\n",
    "\n",
    "display(data.head())\n"
   ]
  },
  {
   "cell_type": "code",
   "execution_count": null,
   "id": "d86c43a3",
   "metadata": {
    "scrolled": true
   },
   "outputs": [],
   "source": [
    "# переименование столбцов для удобного использования \n",
    "data = data.rename(columns={'Количество комнат': 'rooms', \n",
    "                               'Тип': 'type', \n",
    "                               'район': 'district', \n",
    "                               'Адрес': 'address', \n",
    "                               'Площадь, м2': 'area',\n",
    "                               'Этаж': 'floor', \n",
    "                               'Цена': 'price', \n",
    "                               'Ремонт': 'repair', \n",
    "                               'Ссылка на объявление': 'link'})\n",
    "# смотрим основную информацию о датафрейме\n",
    "display(data.info())"
   ]
  },
  {
   "cell_type": "code",
   "execution_count": null,
   "id": "3d805dfa",
   "metadata": {},
   "outputs": [],
   "source": [
    "# просмотр уникальных данных в столбцах:\n",
    "display(data['rooms'].unique())\n",
    "display(data['type'].unique())\n",
    "display(data['district'].unique())\n",
    "display(data['repair'].unique())"
   ]
  },
  {
   "cell_type": "code",
   "execution_count": null,
   "id": "ee68bc9a",
   "metadata": {},
   "outputs": [],
   "source": [
    "# изменим столбец с данными о колве квартир - уберем лишнюю информацию\n",
    "data['rooms'] = data['rooms'].str.replace(',', ' ').str.replace('\\D', '', regex=True) # удаляет данные в ячейке после \",\"\n",
    "data.sample(5)"
   ]
  },
  {
   "cell_type": "markdown",
   "id": "f4965006",
   "metadata": {},
   "source": [
    "### 2. Предобработка данных\n",
    "Перед работой с данными необходимо произвести следующие изменения и анализ данных:\n",
    "##### 1. Создадим дополнительные столбцы \n",
    "Добавим столбцы \"Этажей в доме\" и столбец \"Цена за квадратный метр\":\n",
    "1. Разделим столбец \"floor\": Возьмем из столбца \"floor\" информацию за знаком \"/\" и добавим столбец \"floor_all\" с данными о количестве этажей в доме\n",
    "2. Добавим данные о цене за квадратный метр в новый столбец \"price_square\"\n",
    "\n",
    "\n",
    "##### 2. Изменим типы объектов в следующих столбцах:\n",
    "*rooms* - изменить на тип объекта int\\\n",
    "*floor* - изменить на int \n",
    "\n",
    "##### 3. Работа с пропусками и дубликатами в данных. \n",
    "1. Определим количество пропущенных значениях в столбцах и если есть пропуски, то для дальнейшей работы необходимо их убрать, заменив их на подходящие по логике данные. \n",
    "2. Проверим данные на дубликаты по столбцам \"Адрес\" и \"ID\" - там не должны быть дубли, если они будут то строки необходимо удалить"
   ]
  },
  {
   "cell_type": "markdown",
   "id": "c6402061",
   "metadata": {},
   "source": [
    "#### Разделим столбец \"floor\" и добавим столбец \"price_square\" с данными о цене за квадратный метр "
   ]
  },
  {
   "cell_type": "code",
   "execution_count": null,
   "id": "860cb95b",
   "metadata": {},
   "outputs": [],
   "source": [
    "# добавим столбец 'floor_all'\n",
    "data['floor_all'] = data['floor'].str.split('/').str.get(1)\n",
    "data['floor'] = data['floor'].str.split('/').str.get(0)\n",
    "data['price_square'] = (data['price'] / data['area'])/1000 # создадим столбец \"price_square\" с данными о цене за кв.м. и \n",
    "data['price'] = data['price']/1000000  # поделим результат на 100 для лучшего восприятия цены"
   ]
  },
  {
   "cell_type": "code",
   "execution_count": null,
   "id": "d4340e8c",
   "metadata": {},
   "outputs": [],
   "source": [
    "data['price'] = data['price'].round(1) #  округлим числа до десятых\n",
    "data['price_square'] = data['price_square'].round(1)\n",
    "data.sample(5) "
   ]
  },
  {
   "cell_type": "markdown",
   "id": "5062f8ca",
   "metadata": {},
   "source": [
    "Теперь данные в столбце \"price\" отображаются в млн., а данные в столбце \"price_square\" в тыс./за кв.м."
   ]
  },
  {
   "cell_type": "markdown",
   "id": "da1c48ea",
   "metadata": {},
   "source": [
    "#### 2. Изменим типы объектов "
   ]
  },
  {
   "cell_type": "code",
   "execution_count": null,
   "id": "92fddd66",
   "metadata": {},
   "outputs": [],
   "source": [
    "# изменим тип данных для дальнейшего исследовани\n",
    "data['rooms'] = data['rooms'].fillna(0).astype('int')\n",
    "data['floor'] = data['floor'].fillna(0).astype('int')"
   ]
  },
  {
   "cell_type": "code",
   "execution_count": null,
   "id": "adf3cc2f",
   "metadata": {},
   "outputs": [],
   "source": [
    "display(data.sample(5))  # проверим изменненые данные\n",
    "display(data.info())"
   ]
  },
  {
   "cell_type": "markdown",
   "id": "d8997fb1",
   "metadata": {},
   "source": [
    "#### 3. Определим количество пропущенных значениях и исследуем на дубликаты в столбцах"
   ]
  },
  {
   "cell_type": "code",
   "execution_count": null,
   "id": "c0a71371",
   "metadata": {},
   "outputs": [],
   "source": [
    "# посчитаем пропуски\n",
    "print('Количество дубликатов:', data.duplicated().sum())\n",
    "print('Количие пропусков:')\n",
    "data.isnull().sum() "
   ]
  },
  {
   "cell_type": "markdown",
   "id": "1fba5270",
   "metadata": {},
   "source": [
    "Дубликатов данных нет. \n",
    "Пропуски в столбце с ремонтом и кол-вом комнат из-за отсутсивия информации - для работы с эти столбцом необходимо заменить пропущенные значения на 0 - как \"нет информации о ремонте/комнатах\":"
   ]
  },
  {
   "cell_type": "code",
   "execution_count": null,
   "id": "e4f3e9fc",
   "metadata": {},
   "outputs": [],
   "source": [
    "# замена пропусков\n",
    "data['repair'] = data['repair'].fillna(0)"
   ]
  },
  {
   "cell_type": "markdown",
   "id": "36a9fb84",
   "metadata": {},
   "source": [
    "### 3. Анализ данных\n",
    "#### Исследуем количество объектов по категориям: район продаж, количество комнат, площадь, цена за квадратный метр. Построим визуализации. "
   ]
  },
  {
   "cell_type": "code",
   "execution_count": null,
   "id": "581ab036",
   "metadata": {},
   "outputs": [],
   "source": [
    "# районы\n",
    "display(data['district'].value_counts())\n",
    "data['district'].hist();"
   ]
  },
  {
   "cell_type": "markdown",
   "id": "8e947991",
   "metadata": {},
   "source": [
    "Больше всего объявлений о продаже в Октябрьском районе"
   ]
  },
  {
   "cell_type": "code",
   "execution_count": null,
   "id": "7780bd63",
   "metadata": {},
   "outputs": [],
   "source": [
    "data['type'].unique() # посмотрим данные о типе квартир"
   ]
  },
  {
   "cell_type": "markdown",
   "id": "222057ec",
   "metadata": {},
   "source": [
    "Изменим столбец с данными о типе квартиры: заменим данные на \"second\" - вторичное жилье и \"new\" - новостройка."
   ]
  },
  {
   "cell_type": "code",
   "execution_count": null,
   "id": "d11ba2f4",
   "metadata": {},
   "outputs": [],
   "source": [
    "data['type']\n",
    "data = data.replace({'type':{'Продажа квартиры в новостройке':\"new\", 'Продажа квартиры': \"second\"}})\n",
    "data.head()"
   ]
  },
  {
   "cell_type": "code",
   "execution_count": null,
   "id": "d4152447",
   "metadata": {},
   "outputs": [],
   "source": [
    "data['rooms'].unique()"
   ]
  },
  {
   "cell_type": "code",
   "execution_count": null,
   "id": "720523b4",
   "metadata": {},
   "outputs": [],
   "source": [
    "data[data['rooms'] == 0] "
   ]
  },
  {
   "cell_type": "markdown",
   "id": "fb91783c",
   "metadata": {},
   "source": [
    "По полученным данным большенство квартир с кол-вом комнат = 0 это новостройки без ремонта. Остальные 5 квартир имеют площадь менее 31 квадрата - значит это студии. Оставим как есть."
   ]
  },
  {
   "cell_type": "code",
   "execution_count": null,
   "id": "d1ad46d9",
   "metadata": {},
   "outputs": [],
   "source": [
    "display(data['rooms'].value_counts()) #посчитаем количество квартир в зависимости от количества комнат\n",
    "data['rooms'].hist(figsize=(4,4)) #построим диаграмму "
   ]
  },
  {
   "cell_type": "code",
   "execution_count": null,
   "id": "cf3402f6",
   "metadata": {},
   "outputs": [],
   "source": [
    "#сгруппируем данные по району\n",
    "data_district = data.pivot_table(index = 'district', values = 'ID', columns='rooms', aggfunc = 'count').reset_index().fillna(0)\n",
    "display(data_district) \n",
    "display(data_district.info())"
   ]
  },
  {
   "cell_type": "markdown",
   "id": "c680ffd7",
   "metadata": {},
   "source": [
    "### 4. Визуализация данных\n",
    "#### Визуализация данных по районам"
   ]
  },
  {
   "cell_type": "code",
   "execution_count": null,
   "id": "53339c98",
   "metadata": {},
   "outputs": [],
   "source": [
    "# строим гистограммы \n",
    "fig = px.histogram(data_district, # загружаем данные \n",
    "                   x=[0, 1, 2, 3, 4, 5], # указываем столбец с данными для оси X \n",
    "                   y= 'district',\n",
    "                   title='Распределение по районам') # указываем заголовок \n",
    "fig.update_layout(yaxis_title ='Районы') # подпись для оси X \n",
    "fig.update_layout(xaxis_title ='Количество комнат') # подпись для оси Y \n",
    "fig.show(\"png\"); # выводим график"
   ]
  },
  {
   "cell_type": "code",
   "execution_count": null,
   "id": "eecfc4f8",
   "metadata": {},
   "outputs": [],
   "source": []
  },
  {
   "cell_type": "markdown",
   "id": "96a04a00",
   "metadata": {},
   "source": [
    "В полученном результате видим преобладание объявлений о продаже однокомнатных квартир в любом из районов"
   ]
  },
  {
   "cell_type": "code",
   "execution_count": null,
   "id": "21a5d9a5",
   "metadata": {},
   "outputs": [],
   "source": [
    "# можем посмотреть колличество каких квартир продается, \n",
    "# новостроек или вторичного жилья, по районам\n",
    "data_price4 = data.pivot_table(index = 'district', values = 'ID', columns='type', aggfunc = 'count').reset_index()\n",
    "data_price4['%_new'] = 100*(data_price4['new'] / data_price4['new'].sum()).round(3)\n",
    "data_price4['%_second'] = 100*(data_price4['second'] / data_price4['second'].sum()).round(3)\n",
    "\n",
    "data_price4"
   ]
  },
  {
   "cell_type": "markdown",
   "id": "48f82b41",
   "metadata": {},
   "source": [
    "Новостроек много в Правобережном районе - 28%. А объявлений вторичного жилья больше в Ленинском районе - 32,4%."
   ]
  },
  {
   "cell_type": "code",
   "execution_count": null,
   "id": "a0b5fdd0",
   "metadata": {},
   "outputs": [],
   "source": [
    "# можем посмотреть колличество скольки комнатных квартир, \n",
    "# новостроек или вторичного жилья, в каких районах продается больше чем в остальных\n",
    "data_price2 = data.pivot_table(index = ['district', 'rooms'], values = 'ID', columns='type', aggfunc = 'count')\n",
    "data_price2"
   ]
  },
  {
   "cell_type": "markdown",
   "id": "4ff26622",
   "metadata": {},
   "source": [
    "#### Посмотрим заполнение данных в столбце с данными - цена за кв.метр"
   ]
  },
  {
   "cell_type": "code",
   "execution_count": null,
   "id": "eb585c81",
   "metadata": {
    "scrolled": true
   },
   "outputs": [],
   "source": [
    "# цена за квартиру\n",
    "data['price'].describe().round(3)"
   ]
  },
  {
   "cell_type": "code",
   "execution_count": null,
   "id": "e65870c6",
   "metadata": {},
   "outputs": [],
   "source": [
    "# цена за квадратный метр\n",
    "display(data['price_square'].describe().round(1))\n",
    "data['price_square'].hist(bins=100);"
   ]
  },
  {
   "cell_type": "markdown",
   "id": "eaf8c2d8",
   "metadata": {},
   "source": [
    "   Средняя цена за квадратный метр - 67.3 т.р./кв. А максиматльная сумма за квадрат - 346.2 т.р./кв Посмотрим эти объявления:"
   ]
  },
  {
   "cell_type": "code",
   "execution_count": null,
   "id": "a1037fa9",
   "metadata": {},
   "outputs": [],
   "source": [
    "data[data['price_square'] == 67.3] "
   ]
  },
  {
   "cell_type": "code",
   "execution_count": null,
   "id": "97946b87",
   "metadata": {},
   "outputs": [],
   "source": [
    "data[data['price_square'] == 346.2] "
   ]
  },
  {
   "cell_type": "markdown",
   "id": "7dc8ebbe",
   "metadata": {},
   "source": [
    "Для просмотра квартир по районам с ценой за квадратный метр создадим категории в датафрейме data - столбец cat_pricesquare:\n",
    "\n",
    "0–119 — 'менее 119 т.р за кв.м';\\\n",
    "120–140 — 'от 120 до 140 т.р за кв.м';\\\n",
    "141–152 — 'от 141 до 152 т.р за кв.м';\\\n",
    "152 и выше — 'свыше 152 т.р за кв.м'."
   ]
  },
  {
   "cell_type": "code",
   "execution_count": null,
   "id": "babf30d1",
   "metadata": {},
   "outputs": [],
   "source": [
    "# создадим функцию для категорий по цене за кв.м.\n",
    "def cat_pricesquare(income):\n",
    "    try:\n",
    "        if 0 <= income <= 119:\n",
    "            return 'менее 119 т.р за кв.м'\n",
    "        elif 120 <= income <= 140:\n",
    "            return 'от 120 до 140 т.р за кв.м'\n",
    "        elif 141 <= income <= 152:\n",
    "            return 'от 141 до 152 т.р за кв.м'\n",
    "        elif income >= 153:\n",
    "            return 'свыше 152 т.р за кв.м'\n",
    "    except:\n",
    "        pass"
   ]
  },
  {
   "cell_type": "code",
   "execution_count": null,
   "id": "d4d1a422",
   "metadata": {},
   "outputs": [],
   "source": [
    "# создадим столбец и применю функцию\n",
    "data['cat_pricesquare'] = data['price_square'].apply(cat_pricesquare)\n",
    "display(data.sample(5)) "
   ]
  },
  {
   "cell_type": "code",
   "execution_count": null,
   "id": "f30dabc8",
   "metadata": {},
   "outputs": [],
   "source": [
    "# создадим сводную таблицу по кол-ву обявлений\n",
    "data_price5 = data.pivot_table(index = 'district', values = 'ID', columns='cat_pricesquare', aggfunc = 'count').reset_index()\n",
    "data_price5"
   ]
  },
  {
   "cell_type": "markdown",
   "id": "bc9d3820",
   "metadata": {},
   "source": [
    "Дорогие квартиры, с ценой более 152тр. за кв.м. в Октябрьском районе, а в Ленинском - самые не дорогие с ценой до 119т.р. за кв.м."
   ]
  },
  {
   "cell_type": "code",
   "execution_count": null,
   "id": "00e37951",
   "metadata": {},
   "outputs": [],
   "source": [
    "# строим гистограммы \n",
    "fig = px.histogram(data_price5, # загружаем данные \n",
    "                   x=[\"менее 119 т.р за кв.м\", \"от 120 до 140 т.р за кв.м\", \"от 141 до 152 т.р за кв.м\", \"свыше 152 т.р за кв.м\"], # указываем столбец с данными для оси X \n",
    "                   y= 'district',\n",
    "                   title='Распределение по цене за квадрат') # указываем заголовок \n",
    "fig.update_layout(yaxis_title ='Районы') # подпись для оси X \n",
    "fig.update_layout(xaxis_title ='Цена за квадратный метр') # подпись для оси Y \n",
    "fig.show(\"png\"); # выводим график"
   ]
  },
  {
   "cell_type": "markdown",
   "id": "da1ca10b",
   "metadata": {},
   "source": [
    "## Вывод:\n",
    "* Больше всего объявлений о продаже в Октябрьском районе\n",
    "* Преобладание объявлений о продаже однокомнатных квартир в любом из районов\n",
    "* Новостроек много в Правобережном районе - 28%. А объявлений вторичного жилья больше в Ленинском районе - 32,4%.\n",
    "* Дорогие квартиры, с ценой более 152тр. за кв.м. в Октябрьском районе, а в Ленинском - самые не дорогие с ценой до 119т.р. за кв.м.\n",
    "\n",
    "#### По последней визуализации видно, что количество предложений недорогих квартир в Ленинском и Свердловском районе. А преобладание более дорогих квартир от 152тр за кв.м. - в Октябрьском районе. Из чего следует вывод, что цена за квадратный метр зависит от района продажи"
   ]
  },
  {
   "cell_type": "code",
   "execution_count": null,
   "id": "8dbf8c3c",
   "metadata": {},
   "outputs": [],
   "source": []
  }
 ],
 "metadata": {
  "kernelspec": {
   "display_name": "Python 3 (ipykernel)",
   "language": "python",
   "name": "python3"
  },
  "language_info": {
   "codemirror_mode": {
    "name": "ipython",
    "version": 3
   },
   "file_extension": ".py",
   "mimetype": "text/x-python",
   "name": "python",
   "nbconvert_exporter": "python",
   "pygments_lexer": "ipython3",
   "version": "3.9.18"
  }
 },
 "nbformat": 4,
 "nbformat_minor": 5
}
