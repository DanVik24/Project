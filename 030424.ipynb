#!/usr/bin/env python
# coding: utf-8

# # Исследование объявлений о продаже квартир
# ### Проведем иследование данных о квартирах предоставленных сайтом Циан 

# In[96]:


pip install plotly


# In[41]:


#Импортируем библиотеки
import pandas as pd
import matplotlib.pyplot as plt

#Загружаем данные 
data = pd.read_csv('C:/Users/admin/all/offers_ALL 1.csv', sep=';')

display(data.head())


# In[43]:


# переименование столбцов для удобного использования 
data = data.rename(columns={'Количество комнат': 'rooms', 
                               'Тип': 'type', 
                               'район': 'district', 
                               'Адрес': 'address', 
                               'Площадь, м2': 'area',
                               'Этаж': 'floor', 
                               'Цена': 'price', 
                               'Ремонт': 'repair', 
                               'Ссылка на объявление': 'link'})
# смотрим основную информацию о датафрейме
display(data.info())


# ### Перед работой с данными необходимо произвести следующие изменения и анализ данных:
# #### 1. Разделим столбец "floor" - возьмем из него информацию за знаком "/" и добавим столбец с данными о количестве этажей
# 
# 
# #### 2. Изменим типы объектов в следующих столбцах:
# *rooms* - изменить на тип объекта int\
# *floor* - изменить на int 
# 
# #### 3. Определим количество пропущенных значениях в столбцах
# 
# #### 4. Заменим пропуски в столбцах

# In[45]:


# добавим столбец 'floor_all'
data['floor_all'] = data['floor'].str.split('/').str.get(1)
data['floor'] = data['floor'].str.split('/').str.get(0)
data.sample(5) 


# In[46]:


# изменим тип данных для дальнейшего исследовани
data['rooms'] = data['rooms'].fillna(0).astype('int')
# data['area'] = data['area'].fillna(0).astype('int')
data['floor'] = data['floor'].fillna(0).astype('int')


# In[47]:


display(data.head())
display(data.info())


# In[75]:


# посчитаем пропуски
print('Количество дубликатов:', data.duplicated().sum())
print('Количие пропусков:')
data.isnull().sum() 


# Пропуски в столбце с ремонтом из-за отсутсивия информации - для работы с эти столбцом необходимо заменить пропущенные значения на 0 как "нет информации о ремонте":

# In[51]:


# замена пропусков
data['repair'] = data['repair'].fillna(0)


# ## Анализ данных
# ### Какие районы представлены в данных? Исследуем количество объектов по категориям: количество комнат, цена, площадь. Построим визуализации. 

# In[82]:


# районы
display(data['district'].value_counts())
data['district'].hist();


# Больше всего продаются квартиры в Октябрьском и Ленинском районах

# Просмотрим данные по стоблцу rooms

# In[53]:


data['rooms'].unique()


# По данным квартир с указаннием о количесве комнат = 0 можем сделать предположение, что данные квартиры являются новостройками со свободной планировкой. Оставим как есть.

# In[73]:


display(data['rooms'].value_counts()) #посчитаем количество квартир в зависимости от количества комнат
data['rooms'].hist(figsize=(4,4)) #построим диаграмму 


# ### Больше всего продается однокомнатных квартир 

# In[85]:


category = data.groupby('rooms')['ID'].count().sort_values(ascending=False).reset_index()
category['%'] = 100*(category['ID'] / category['ID'].sum()).round(3)
category = category.rename(columns={'ID':'count'})
category


# In[105]:


data_district = data.pivot_table(index = 'district', values = 'ID', columns='rooms', aggfunc = 'count').reset_index()
data_district 


# In[98]:


# строим гистограммы 
import plotly.express as px
fig = px.histogram(data_district, # загружаем данные 
                   x=['0', '1', '2', '3', '4', '5'], # указываем столбец с данными для оси X 
                   y= 'district',
                   title='Распределение') # указываем заголовок 
fig.update_layout(yaxis_title ='Районы') # подпись для оси X 
fig.update_layout(xaxis_title ='Кол-во комнат') # подпись для оси Y 
fig.show(); # выводим график


# 

# In[ ]:





# In[ ]:




