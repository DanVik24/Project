{
 "cells": [
  {
   "cell_type": "markdown",
   "id": "611c0993",
   "metadata": {},
   "source": [
    "# Исследование объявлений о продаже квартир\n",
    "### Проведем иследование данных о квартирах предоставленных сайтом Циан "
   ]
  },
  {
   "cell_type": "code",
   "execution_count": 96,
   "id": "deae5b0f",
   "metadata": {},
   "outputs": [
    {
     "name": "stdout",
     "output_type": "stream",
     "text": [
      "Collecting plotly\n",
      "  Downloading plotly-5.21.0-py3-none-any.whl.metadata (7.1 kB)\n",
      "Collecting tenacity>=6.2.0 (from plotly)\n",
      "  Downloading tenacity-8.2.3-py3-none-any.whl.metadata (1.0 kB)\n",
      "Requirement already satisfied: packaging in c:\\users\\admin\\anaconda3\\lib\\site-packages (from plotly) (23.1)\n",
      "Downloading plotly-5.21.0-py3-none-any.whl (15.7 MB)\n",
      "   ---------------------------------------- 0.0/15.7 MB ? eta -:--:--\n",
      "   ---------------------------------------- 0.0/15.7 MB ? eta -:--:--\n",
      "   ---------------------------------------- 0.0/15.7 MB ? eta -:--:--\n",
      "   ---------------------------------------- 0.0/15.7 MB 262.6 kB/s eta 0:01:00\n",
      "   ---------------------------------------- 0.1/15.7 MB 328.2 kB/s eta 0:00:48\n",
      "   ---------------------------------------- 0.1/15.7 MB 403.5 kB/s eta 0:00:39\n",
      "   ---------------------------------------- 0.2/15.7 MB 573.4 kB/s eta 0:00:28\n",
      "    --------------------------------------- 0.2/15.7 MB 692.4 kB/s eta 0:00:23\n",
      "    --------------------------------------- 0.3/15.7 MB 776.2 kB/s eta 0:00:20\n",
      "    --------------------------------------- 0.3/15.7 MB 840.2 kB/s eta 0:00:19\n",
      "    --------------------------------------- 0.4/15.7 MB 897.8 kB/s eta 0:00:18\n",
      "   - -------------------------------------- 0.5/15.7 MB 909.8 kB/s eta 0:00:17\n",
      "   - -------------------------------------- 0.6/15.7 MB 1.1 MB/s eta 0:00:14\n",
      "   - -------------------------------------- 0.8/15.7 MB 1.3 MB/s eta 0:00:12\n",
      "   -- ------------------------------------- 1.0/15.7 MB 1.6 MB/s eta 0:00:10\n",
      "   --- ------------------------------------ 1.3/15.7 MB 1.9 MB/s eta 0:00:08\n",
      "   ---- ----------------------------------- 1.7/15.7 MB 2.4 MB/s eta 0:00:06\n",
      "   ------ --------------------------------- 2.4/15.7 MB 3.2 MB/s eta 0:00:05\n",
      "   -------- ------------------------------- 3.3/15.7 MB 4.0 MB/s eta 0:00:04\n",
      "   ----------- ---------------------------- 4.7/15.7 MB 5.4 MB/s eta 0:00:03\n",
      "   -------------- ------------------------- 5.7/15.7 MB 6.2 MB/s eta 0:00:02\n",
      "   ------------------ --------------------- 7.3/15.7 MB 7.7 MB/s eta 0:00:02\n",
      "   ------------------------ --------------- 9.6/15.7 MB 9.6 MB/s eta 0:00:01\n",
      "   --------------------------- ------------ 10.6/15.7 MB 18.7 MB/s eta 0:00:01\n",
      "   --------------------------- ------------ 10.6/15.7 MB 18.7 MB/s eta 0:00:01\n",
      "   ---------------------------- ----------- 11.3/15.7 MB 20.5 MB/s eta 0:00:01\n",
      "   ------------------------------- -------- 12.2/15.7 MB 24.2 MB/s eta 0:00:01\n",
      "   ------------------------------- -------- 12.2/15.7 MB 24.2 MB/s eta 0:00:01\n",
      "   --------------------------------- ------ 13.2/15.7 MB 21.1 MB/s eta 0:00:01\n",
      "   ---------------------------------------  15.7/15.7 MB 26.2 MB/s eta 0:00:01\n",
      "   ---------------------------------------- 15.7/15.7 MB 23.4 MB/s eta 0:00:00\n",
      "Downloading tenacity-8.2.3-py3-none-any.whl (24 kB)\n",
      "Installing collected packages: tenacity, plotly\n",
      "Successfully installed plotly-5.21.0 tenacity-8.2.3\n",
      "Note: you may need to restart the kernel to use updated packages.\n"
     ]
    }
   ],
   "source": [
    "pip install plotly"
   ]
  },
  {
   "cell_type": "code",
   "execution_count": 41,
   "id": "0762bb1a",
   "metadata": {},
   "outputs": [
    {
     "data": {
      "text/html": [
       "<div>\n",
       "<style scoped>\n",
       "    .dataframe tbody tr th:only-of-type {\n",
       "        vertical-align: middle;\n",
       "    }\n",
       "\n",
       "    .dataframe tbody tr th {\n",
       "        vertical-align: top;\n",
       "    }\n",
       "\n",
       "    .dataframe thead th {\n",
       "        text-align: right;\n",
       "    }\n",
       "</style>\n",
       "<table border=\"1\" class=\"dataframe\">\n",
       "  <thead>\n",
       "    <tr style=\"text-align: right;\">\n",
       "      <th></th>\n",
       "      <th>ID</th>\n",
       "      <th>Количество комнат</th>\n",
       "      <th>Тип</th>\n",
       "      <th>район</th>\n",
       "      <th>Адрес</th>\n",
       "      <th>Площадь, м2</th>\n",
       "      <th>Этаж</th>\n",
       "      <th>Цена</th>\n",
       "      <th>Ремонт</th>\n",
       "      <th>Ссылка на объявление</th>\n",
       "    </tr>\n",
       "  </thead>\n",
       "  <tbody>\n",
       "    <tr>\n",
       "      <th>0</th>\n",
       "      <td>300151528</td>\n",
       "      <td>2.0</td>\n",
       "      <td>Продажа квартиры в новостройке</td>\n",
       "      <td>Свердловский</td>\n",
       "      <td>Иркутская область, Иркутск, улица Костычева</td>\n",
       "      <td>34.8</td>\n",
       "      <td>4/12</td>\n",
       "      <td>5220000</td>\n",
       "      <td>NaN</td>\n",
       "      <td>https://www.cian.ru/sale/flat/300151528</td>\n",
       "    </tr>\n",
       "    <tr>\n",
       "      <th>1</th>\n",
       "      <td>297027698</td>\n",
       "      <td>2.0</td>\n",
       "      <td>Продажа квартиры</td>\n",
       "      <td>Свердловский</td>\n",
       "      <td>Иркутская область, Иркутск, улица Помяловского...</td>\n",
       "      <td>48.0</td>\n",
       "      <td>5/5</td>\n",
       "      <td>4450000</td>\n",
       "      <td>Косметический</td>\n",
       "      <td>https://www.cian.ru/sale/flat/297027698</td>\n",
       "    </tr>\n",
       "    <tr>\n",
       "      <th>2</th>\n",
       "      <td>300140904</td>\n",
       "      <td>2.0</td>\n",
       "      <td>Продажа квартиры</td>\n",
       "      <td>Свердловский</td>\n",
       "      <td>Иркутская область, Иркутск, улица Сергеева, 5/8</td>\n",
       "      <td>58.7</td>\n",
       "      <td>2/4</td>\n",
       "      <td>5700000</td>\n",
       "      <td>Евроремонт</td>\n",
       "      <td>https://www.cian.ru/sale/flat/300140904</td>\n",
       "    </tr>\n",
       "    <tr>\n",
       "      <th>3</th>\n",
       "      <td>295915593</td>\n",
       "      <td>1.0</td>\n",
       "      <td>Продажа квартиры</td>\n",
       "      <td>Свердловский</td>\n",
       "      <td>Иркутская область, Иркутск, улица Багратиона, ...</td>\n",
       "      <td>43.0</td>\n",
       "      <td>7/9</td>\n",
       "      <td>5990000</td>\n",
       "      <td>Косметический</td>\n",
       "      <td>https://www.cian.ru/sale/flat/295915593</td>\n",
       "    </tr>\n",
       "    <tr>\n",
       "      <th>4</th>\n",
       "      <td>295895678</td>\n",
       "      <td>3.0</td>\n",
       "      <td>Продажа квартиры в новостройке</td>\n",
       "      <td>Свердловский</td>\n",
       "      <td>Иркутская область, Иркутск, улица Костычева</td>\n",
       "      <td>66.1</td>\n",
       "      <td>12/12</td>\n",
       "      <td>7204900</td>\n",
       "      <td>NaN</td>\n",
       "      <td>https://www.cian.ru/sale/flat/295895678</td>\n",
       "    </tr>\n",
       "  </tbody>\n",
       "</table>\n",
       "</div>"
      ],
      "text/plain": [
       "          ID  Количество комнат                             Тип         район  \\\n",
       "0  300151528                2.0  Продажа квартиры в новостройке  Свердловский   \n",
       "1  297027698                2.0                Продажа квартиры  Свердловский   \n",
       "2  300140904                2.0                Продажа квартиры  Свердловский   \n",
       "3  295915593                1.0                Продажа квартиры  Свердловский   \n",
       "4  295895678                3.0  Продажа квартиры в новостройке  Свердловский   \n",
       "\n",
       "                                               Адрес  Площадь, м2   Этаж  \\\n",
       "0        Иркутская область, Иркутск, улица Костычева         34.8   4/12   \n",
       "1  Иркутская область, Иркутск, улица Помяловского...         48.0    5/5   \n",
       "2    Иркутская область, Иркутск, улица Сергеева, 5/8         58.7    2/4   \n",
       "3  Иркутская область, Иркутск, улица Багратиона, ...         43.0    7/9   \n",
       "4        Иркутская область, Иркутск, улица Костычева         66.1  12/12   \n",
       "\n",
       "      Цена         Ремонт                     Ссылка на объявление  \n",
       "0  5220000            NaN  https://www.cian.ru/sale/flat/300151528  \n",
       "1  4450000  Косметический  https://www.cian.ru/sale/flat/297027698  \n",
       "2  5700000     Евроремонт  https://www.cian.ru/sale/flat/300140904  \n",
       "3  5990000  Косметический  https://www.cian.ru/sale/flat/295915593  \n",
       "4  7204900            NaN  https://www.cian.ru/sale/flat/295895678  "
      ]
     },
     "metadata": {},
     "output_type": "display_data"
    }
   ],
   "source": [
    "#Импортируем библиотеки\n",
    "import pandas as pd\n",
    "import matplotlib.pyplot as plt\n",
    "\n",
    "#Загружаем данные \n",
    "data = pd.read_csv('C:/Users/admin/all/offers_ALL 1.csv', sep=';')\n",
    "\n",
    "display(data.head())\n"
   ]
  },
  {
   "cell_type": "code",
   "execution_count": 43,
   "id": "d86c43a3",
   "metadata": {
    "scrolled": true
   },
   "outputs": [
    {
     "name": "stdout",
     "output_type": "stream",
     "text": [
      "<class 'pandas.core.frame.DataFrame'>\n",
      "RangeIndex: 767 entries, 0 to 766\n",
      "Data columns (total 10 columns):\n",
      " #   Column    Non-Null Count  Dtype  \n",
      "---  ------    --------------  -----  \n",
      " 0   ID        767 non-null    int64  \n",
      " 1   rooms     746 non-null    float64\n",
      " 2   type      767 non-null    object \n",
      " 3   district  767 non-null    object \n",
      " 4   address   767 non-null    object \n",
      " 5   area      767 non-null    float64\n",
      " 6   floor     767 non-null    object \n",
      " 7   price     767 non-null    int64  \n",
      " 8   repair    86 non-null     object \n",
      " 9   link      767 non-null    object \n",
      "dtypes: float64(2), int64(2), object(6)\n",
      "memory usage: 60.0+ KB\n"
     ]
    },
    {
     "data": {
      "text/plain": [
       "None"
      ]
     },
     "metadata": {},
     "output_type": "display_data"
    }
   ],
   "source": [
    "# переименование столбцов для удобного использования \n",
    "data = data.rename(columns={'Количество комнат': 'rooms', \n",
    "                               'Тип': 'type', \n",
    "                               'район': 'district', \n",
    "                               'Адрес': 'address', \n",
    "                               'Площадь, м2': 'area',\n",
    "                               'Этаж': 'floor', \n",
    "                               'Цена': 'price', \n",
    "                               'Ремонт': 'repair', \n",
    "                               'Ссылка на объявление': 'link'})\n",
    "# смотрим основную информацию о датафрейме\n",
    "display(data.info())"
   ]
  },
  {
   "cell_type": "markdown",
   "id": "f4965006",
   "metadata": {},
   "source": [
    "### Перед работой с данными необходимо произвести следующие изменения и анализ данных:\n",
    "#### 1. Разделим столбец \"floor\" - возьмем из него информацию за знаком \"/\" и добавим столбец с данными о количестве этажей\n",
    "\n",
    "\n",
    "#### 2. Изменим типы объектов в следующих столбцах:\n",
    "*rooms* - изменить на тип объекта int\\\n",
    "*floor* - изменить на int \n",
    "\n",
    "#### 3. Определим количество пропущенных значениях в столбцах\n",
    "\n",
    "#### 4. Заменим пропуски в столбцах"
   ]
  },
  {
   "cell_type": "code",
   "execution_count": 45,
   "id": "860cb95b",
   "metadata": {},
   "outputs": [
    {
     "data": {
      "text/html": [
       "<div>\n",
       "<style scoped>\n",
       "    .dataframe tbody tr th:only-of-type {\n",
       "        vertical-align: middle;\n",
       "    }\n",
       "\n",
       "    .dataframe tbody tr th {\n",
       "        vertical-align: top;\n",
       "    }\n",
       "\n",
       "    .dataframe thead th {\n",
       "        text-align: right;\n",
       "    }\n",
       "</style>\n",
       "<table border=\"1\" class=\"dataframe\">\n",
       "  <thead>\n",
       "    <tr style=\"text-align: right;\">\n",
       "      <th></th>\n",
       "      <th>ID</th>\n",
       "      <th>rooms</th>\n",
       "      <th>type</th>\n",
       "      <th>district</th>\n",
       "      <th>address</th>\n",
       "      <th>area</th>\n",
       "      <th>floor</th>\n",
       "      <th>price</th>\n",
       "      <th>repair</th>\n",
       "      <th>link</th>\n",
       "      <th>floor_all</th>\n",
       "    </tr>\n",
       "  </thead>\n",
       "  <tbody>\n",
       "    <tr>\n",
       "      <th>88</th>\n",
       "      <td>295895652</td>\n",
       "      <td>1</td>\n",
       "      <td>Продажа квартиры в новостройке</td>\n",
       "      <td>Свердловский</td>\n",
       "      <td>Иркутская область, Иркутск, улица Костычева</td>\n",
       "      <td>33.60</td>\n",
       "      <td>4</td>\n",
       "      <td>4032000</td>\n",
       "      <td>NaN</td>\n",
       "      <td>https://www.cian.ru/sale/flat/295895652</td>\n",
       "      <td>12</td>\n",
       "    </tr>\n",
       "    <tr>\n",
       "      <th>445</th>\n",
       "      <td>298600699</td>\n",
       "      <td>1</td>\n",
       "      <td>Продажа квартиры в новостройке</td>\n",
       "      <td>Октябрьский</td>\n",
       "      <td>Иркутская область, Иркутск, ИВАТУ городок</td>\n",
       "      <td>39.97</td>\n",
       "      <td>2</td>\n",
       "      <td>5445440</td>\n",
       "      <td>NaN</td>\n",
       "      <td>https://www.cian.ru/sale/flat/298600699</td>\n",
       "      <td>16</td>\n",
       "    </tr>\n",
       "    <tr>\n",
       "      <th>358</th>\n",
       "      <td>299629882</td>\n",
       "      <td>1</td>\n",
       "      <td>Продажа квартиры в новостройке</td>\n",
       "      <td>Правобережный</td>\n",
       "      <td>Иркутская область, Иркутск, улица Петрова, 16</td>\n",
       "      <td>40.10</td>\n",
       "      <td>13</td>\n",
       "      <td>6085018</td>\n",
       "      <td>NaN</td>\n",
       "      <td>https://www.cian.ru/sale/flat/299629882</td>\n",
       "      <td>16</td>\n",
       "    </tr>\n",
       "    <tr>\n",
       "      <th>250</th>\n",
       "      <td>299629938</td>\n",
       "      <td>1</td>\n",
       "      <td>Продажа квартиры в новостройке</td>\n",
       "      <td>Правобережный</td>\n",
       "      <td>Иркутская область, Иркутск, улица Петрова, 16</td>\n",
       "      <td>34.35</td>\n",
       "      <td>16</td>\n",
       "      <td>5468266</td>\n",
       "      <td>NaN</td>\n",
       "      <td>https://www.cian.ru/sale/flat/299629938</td>\n",
       "      <td>16</td>\n",
       "    </tr>\n",
       "    <tr>\n",
       "      <th>545</th>\n",
       "      <td>298600880</td>\n",
       "      <td>1</td>\n",
       "      <td>Продажа квартиры в новостройке</td>\n",
       "      <td>Октябрьский</td>\n",
       "      <td>Иркутская область, Иркутск, ИВАТУ городок</td>\n",
       "      <td>36.54</td>\n",
       "      <td>8</td>\n",
       "      <td>5600000</td>\n",
       "      <td>NaN</td>\n",
       "      <td>https://www.cian.ru/sale/flat/298600880</td>\n",
       "      <td>16</td>\n",
       "    </tr>\n",
       "  </tbody>\n",
       "</table>\n",
       "</div>"
      ],
      "text/plain": [
       "            ID  rooms                            type       district  \\\n",
       "88   295895652      1  Продажа квартиры в новостройке   Свердловский   \n",
       "445  298600699      1  Продажа квартиры в новостройке    Октябрьский   \n",
       "358  299629882      1  Продажа квартиры в новостройке  Правобережный   \n",
       "250  299629938      1  Продажа квартиры в новостройке  Правобережный   \n",
       "545  298600880      1  Продажа квартиры в новостройке    Октябрьский   \n",
       "\n",
       "                                           address   area floor    price  \\\n",
       "88     Иркутская область, Иркутск, улица Костычева  33.60     4  4032000   \n",
       "445      Иркутская область, Иркутск, ИВАТУ городок  39.97     2  5445440   \n",
       "358  Иркутская область, Иркутск, улица Петрова, 16  40.10    13  6085018   \n",
       "250  Иркутская область, Иркутск, улица Петрова, 16  34.35    16  5468266   \n",
       "545      Иркутская область, Иркутск, ИВАТУ городок  36.54     8  5600000   \n",
       "\n",
       "    repair                                     link floor_all  \n",
       "88     NaN  https://www.cian.ru/sale/flat/295895652        12  \n",
       "445    NaN  https://www.cian.ru/sale/flat/298600699        16  \n",
       "358    NaN  https://www.cian.ru/sale/flat/299629882        16  \n",
       "250    NaN  https://www.cian.ru/sale/flat/299629938        16  \n",
       "545    NaN  https://www.cian.ru/sale/flat/298600880        16  "
      ]
     },
     "execution_count": 45,
     "metadata": {},
     "output_type": "execute_result"
    }
   ],
   "source": [
    "# добавим столбец 'floor_all'\n",
    "data['floor_all'] = data['floor'].str.split('/').str.get(1)\n",
    "data['floor'] = data['floor'].str.split('/').str.get(0)\n",
    "data.sample(5) "
   ]
  },
  {
   "cell_type": "code",
   "execution_count": 46,
   "id": "92fddd66",
   "metadata": {},
   "outputs": [],
   "source": [
    "# изменим тип данных для дальнейшего исследовани\n",
    "data['rooms'] = data['rooms'].fillna(0).astype('int')\n",
    "# data['area'] = data['area'].fillna(0).astype('int')\n",
    "data['floor'] = data['floor'].fillna(0).astype('int')"
   ]
  },
  {
   "cell_type": "code",
   "execution_count": 47,
   "id": "adf3cc2f",
   "metadata": {},
   "outputs": [
    {
     "data": {
      "text/html": [
       "<div>\n",
       "<style scoped>\n",
       "    .dataframe tbody tr th:only-of-type {\n",
       "        vertical-align: middle;\n",
       "    }\n",
       "\n",
       "    .dataframe tbody tr th {\n",
       "        vertical-align: top;\n",
       "    }\n",
       "\n",
       "    .dataframe thead th {\n",
       "        text-align: right;\n",
       "    }\n",
       "</style>\n",
       "<table border=\"1\" class=\"dataframe\">\n",
       "  <thead>\n",
       "    <tr style=\"text-align: right;\">\n",
       "      <th></th>\n",
       "      <th>ID</th>\n",
       "      <th>rooms</th>\n",
       "      <th>type</th>\n",
       "      <th>district</th>\n",
       "      <th>address</th>\n",
       "      <th>area</th>\n",
       "      <th>floor</th>\n",
       "      <th>price</th>\n",
       "      <th>repair</th>\n",
       "      <th>link</th>\n",
       "      <th>floor_all</th>\n",
       "    </tr>\n",
       "  </thead>\n",
       "  <tbody>\n",
       "    <tr>\n",
       "      <th>0</th>\n",
       "      <td>300151528</td>\n",
       "      <td>2</td>\n",
       "      <td>Продажа квартиры в новостройке</td>\n",
       "      <td>Свердловский</td>\n",
       "      <td>Иркутская область, Иркутск, улица Костычева</td>\n",
       "      <td>34.8</td>\n",
       "      <td>4</td>\n",
       "      <td>5220000</td>\n",
       "      <td>NaN</td>\n",
       "      <td>https://www.cian.ru/sale/flat/300151528</td>\n",
       "      <td>12</td>\n",
       "    </tr>\n",
       "    <tr>\n",
       "      <th>1</th>\n",
       "      <td>297027698</td>\n",
       "      <td>2</td>\n",
       "      <td>Продажа квартиры</td>\n",
       "      <td>Свердловский</td>\n",
       "      <td>Иркутская область, Иркутск, улица Помяловского...</td>\n",
       "      <td>48.0</td>\n",
       "      <td>5</td>\n",
       "      <td>4450000</td>\n",
       "      <td>Косметический</td>\n",
       "      <td>https://www.cian.ru/sale/flat/297027698</td>\n",
       "      <td>5</td>\n",
       "    </tr>\n",
       "    <tr>\n",
       "      <th>2</th>\n",
       "      <td>300140904</td>\n",
       "      <td>2</td>\n",
       "      <td>Продажа квартиры</td>\n",
       "      <td>Свердловский</td>\n",
       "      <td>Иркутская область, Иркутск, улица Сергеева, 5/8</td>\n",
       "      <td>58.7</td>\n",
       "      <td>2</td>\n",
       "      <td>5700000</td>\n",
       "      <td>Евроремонт</td>\n",
       "      <td>https://www.cian.ru/sale/flat/300140904</td>\n",
       "      <td>4</td>\n",
       "    </tr>\n",
       "    <tr>\n",
       "      <th>3</th>\n",
       "      <td>295915593</td>\n",
       "      <td>1</td>\n",
       "      <td>Продажа квартиры</td>\n",
       "      <td>Свердловский</td>\n",
       "      <td>Иркутская область, Иркутск, улица Багратиона, ...</td>\n",
       "      <td>43.0</td>\n",
       "      <td>7</td>\n",
       "      <td>5990000</td>\n",
       "      <td>Косметический</td>\n",
       "      <td>https://www.cian.ru/sale/flat/295915593</td>\n",
       "      <td>9</td>\n",
       "    </tr>\n",
       "    <tr>\n",
       "      <th>4</th>\n",
       "      <td>295895678</td>\n",
       "      <td>3</td>\n",
       "      <td>Продажа квартиры в новостройке</td>\n",
       "      <td>Свердловский</td>\n",
       "      <td>Иркутская область, Иркутск, улица Костычева</td>\n",
       "      <td>66.1</td>\n",
       "      <td>12</td>\n",
       "      <td>7204900</td>\n",
       "      <td>NaN</td>\n",
       "      <td>https://www.cian.ru/sale/flat/295895678</td>\n",
       "      <td>12</td>\n",
       "    </tr>\n",
       "  </tbody>\n",
       "</table>\n",
       "</div>"
      ],
      "text/plain": [
       "          ID  rooms                            type      district  \\\n",
       "0  300151528      2  Продажа квартиры в новостройке  Свердловский   \n",
       "1  297027698      2                Продажа квартиры  Свердловский   \n",
       "2  300140904      2                Продажа квартиры  Свердловский   \n",
       "3  295915593      1                Продажа квартиры  Свердловский   \n",
       "4  295895678      3  Продажа квартиры в новостройке  Свердловский   \n",
       "\n",
       "                                             address  area  floor    price  \\\n",
       "0        Иркутская область, Иркутск, улица Костычева  34.8      4  5220000   \n",
       "1  Иркутская область, Иркутск, улица Помяловского...  48.0      5  4450000   \n",
       "2    Иркутская область, Иркутск, улица Сергеева, 5/8  58.7      2  5700000   \n",
       "3  Иркутская область, Иркутск, улица Багратиона, ...  43.0      7  5990000   \n",
       "4        Иркутская область, Иркутск, улица Костычева  66.1     12  7204900   \n",
       "\n",
       "          repair                                     link floor_all  \n",
       "0            NaN  https://www.cian.ru/sale/flat/300151528        12  \n",
       "1  Косметический  https://www.cian.ru/sale/flat/297027698         5  \n",
       "2     Евроремонт  https://www.cian.ru/sale/flat/300140904         4  \n",
       "3  Косметический  https://www.cian.ru/sale/flat/295915593         9  \n",
       "4            NaN  https://www.cian.ru/sale/flat/295895678        12  "
      ]
     },
     "metadata": {},
     "output_type": "display_data"
    },
    {
     "name": "stdout",
     "output_type": "stream",
     "text": [
      "<class 'pandas.core.frame.DataFrame'>\n",
      "RangeIndex: 767 entries, 0 to 766\n",
      "Data columns (total 11 columns):\n",
      " #   Column     Non-Null Count  Dtype  \n",
      "---  ------     --------------  -----  \n",
      " 0   ID         767 non-null    int64  \n",
      " 1   rooms      767 non-null    int32  \n",
      " 2   type       767 non-null    object \n",
      " 3   district   767 non-null    object \n",
      " 4   address    767 non-null    object \n",
      " 5   area       767 non-null    float64\n",
      " 6   floor      767 non-null    int32  \n",
      " 7   price      767 non-null    int64  \n",
      " 8   repair     86 non-null     object \n",
      " 9   link       767 non-null    object \n",
      " 10  floor_all  767 non-null    object \n",
      "dtypes: float64(1), int32(2), int64(2), object(6)\n",
      "memory usage: 60.0+ KB\n"
     ]
    },
    {
     "data": {
      "text/plain": [
       "None"
      ]
     },
     "metadata": {},
     "output_type": "display_data"
    }
   ],
   "source": [
    "display(data.head())\n",
    "display(data.info())"
   ]
  },
  {
   "cell_type": "code",
   "execution_count": 75,
   "id": "c0a71371",
   "metadata": {},
   "outputs": [
    {
     "name": "stdout",
     "output_type": "stream",
     "text": [
      "Количество дубликатов: 0\n",
      "Количие пропусков:\n"
     ]
    },
    {
     "data": {
      "text/plain": [
       "ID           0\n",
       "rooms        0\n",
       "type         0\n",
       "district     0\n",
       "address      0\n",
       "area         0\n",
       "floor        0\n",
       "price        0\n",
       "repair       0\n",
       "link         0\n",
       "floor_all    0\n",
       "dtype: int64"
      ]
     },
     "execution_count": 75,
     "metadata": {},
     "output_type": "execute_result"
    }
   ],
   "source": [
    "# посчитаем пропуски\n",
    "print('Количество дубликатов:', data.duplicated().sum())\n",
    "print('Количие пропусков:')\n",
    "data.isnull().sum() "
   ]
  },
  {
   "cell_type": "markdown",
   "id": "8dc07fd7",
   "metadata": {},
   "source": [
    "Пропуски в столбце с ремонтом из-за отсутсивия информации - для работы с эти столбцом необходимо заменить пропущенные значения на 0 как \"нет информации о ремонте\":"
   ]
  },
  {
   "cell_type": "code",
   "execution_count": 51,
   "id": "e4f3e9fc",
   "metadata": {},
   "outputs": [],
   "source": [
    "# замена пропусков\n",
    "data['repair'] = data['repair'].fillna(0)"
   ]
  },
  {
   "cell_type": "markdown",
   "id": "24ec640f",
   "metadata": {},
   "source": [
    "## Анализ данных\n",
    "### Какие районы представлены в данных? Исследуем количество объектов по категориям: количество комнат, цена, площадь. Построим визуализации. "
   ]
  },
  {
   "cell_type": "code",
   "execution_count": 82,
   "id": "581ab036",
   "metadata": {},
   "outputs": [
    {
     "data": {
      "text/plain": [
       "district\n",
       "Октябрьский      200\n",
       "Ленинский        200\n",
       "Правобережный    195\n",
       "Свердловский     172\n",
       "Name: count, dtype: int64"
      ]
     },
     "metadata": {},
     "output_type": "display_data"
    },
    {
     "data": {
      "image/png": "[encoded data removed]",
      "text/plain": [
       "<Figure size 640x480 with 1 Axes>"
      ]
     },
     "metadata": {},
     "output_type": "display_data"
    }
   ],
   "source": [
    "# районы\n",
    "display(data['district'].value_counts())\n",
    "data['district'].hist();"
   ]
  },
  {
   "cell_type": "markdown",
   "id": "af8ae581",
   "metadata": {},
   "source": [
    "Больше всего продаются квартиры в Октябрьском и Ленинском районах"
   ]
  },
  {
   "cell_type": "markdown",
   "id": "529b6f69",
   "metadata": {},
   "source": [
    "Просмотрим данные по стоблцу rooms"
   ]
  },
  {
   "cell_type": "code",
   "execution_count": 53,
   "id": "45fd94a6",
   "metadata": {},
   "outputs": [
    {
     "data": {
      "text/plain": [
       "array([2, 1, 3, 0, 4, 5])"
      ]
     },
     "execution_count": 53,
     "metadata": {},
     "output_type": "execute_result"
    }
   ],
   "source": [
    "data['rooms'].unique()"
   ]
  },
  {
   "cell_type": "markdown",
   "id": "c965a832",
   "metadata": {},
   "source": [
    "По данным квартир с указаннием о количесве комнат = 0 можем сделать предположение, что данные квартиры являются новостройками со свободной планировкой. Оставим как есть."
   ]
  },
  {
   "cell_type": "code",
   "execution_count": 73,
   "id": "1485e782",
   "metadata": {},
   "outputs": [
    {
     "data": {
      "text/plain": [
       "rooms\n",
       "1    539\n",
       "2    128\n",
       "3     63\n",
       "0     21\n",
       "4     15\n",
       "5      1\n",
       "Name: count, dtype: int64"
      ]
     },
     "metadata": {},
     "output_type": "display_data"
    },
    {
     "data": {
      "text/plain": [
       "<Axes: >"
      ]
     },
     "execution_count": 73,
     "metadata": {},
     "output_type": "execute_result"
    },
    {
     "data": {
      "image/png": "[encoded data removed]",
      "text/plain": [
       "<Figure size 400x400 with 1 Axes>"
      ]
     },
     "metadata": {},
     "output_type": "display_data"
    }
   ],
   "source": [
    "display(data['rooms'].value_counts()) #посчитаем количество квартир в зависимости от количества комнат\n",
    "data['rooms'].hist(figsize=(4,4)) #построим диаграмму "
   ]
  },
  {
   "cell_type": "markdown",
   "id": "e6b0f8e9",
   "metadata": {},
   "source": [
    "### Больше всего продается однокомнатных квартир "
   ]
  },
  {
   "cell_type": "code",
   "execution_count": 85,
   "id": "c969a732",
   "metadata": {},
   "outputs": [
    {
     "data": {
      "text/html": [
       "<div>\n",
       "<style scoped>\n",
       "    .dataframe tbody tr th:only-of-type {\n",
       "        vertical-align: middle;\n",
       "    }\n",
       "\n",
       "    .dataframe tbody tr th {\n",
       "        vertical-align: top;\n",
       "    }\n",
       "\n",
       "    .dataframe thead th {\n",
       "        text-align: right;\n",
       "    }\n",
       "</style>\n",
       "<table border=\"1\" class=\"dataframe\">\n",
       "  <thead>\n",
       "    <tr style=\"text-align: right;\">\n",
       "      <th></th>\n",
       "      <th>rooms</th>\n",
       "      <th>count</th>\n",
       "      <th>%</th>\n",
       "    </tr>\n",
       "  </thead>\n",
       "  <tbody>\n",
       "    <tr>\n",
       "      <th>0</th>\n",
       "      <td>1</td>\n",
       "      <td>539</td>\n",
       "      <td>70.3</td>\n",
       "    </tr>\n",
       "    <tr>\n",
       "      <th>1</th>\n",
       "      <td>2</td>\n",
       "      <td>128</td>\n",
       "      <td>16.7</td>\n",
       "    </tr>\n",
       "    <tr>\n",
       "      <th>2</th>\n",
       "      <td>3</td>\n",
       "      <td>63</td>\n",
       "      <td>8.2</td>\n",
       "    </tr>\n",
       "    <tr>\n",
       "      <th>3</th>\n",
       "      <td>0</td>\n",
       "      <td>21</td>\n",
       "      <td>2.7</td>\n",
       "    </tr>\n",
       "    <tr>\n",
       "      <th>4</th>\n",
       "      <td>4</td>\n",
       "      <td>15</td>\n",
       "      <td>2.0</td>\n",
       "    </tr>\n",
       "    <tr>\n",
       "      <th>5</th>\n",
       "      <td>5</td>\n",
       "      <td>1</td>\n",
       "      <td>0.1</td>\n",
       "    </tr>\n",
       "  </tbody>\n",
       "</table>\n",
       "</div>"
      ],
      "text/plain": [
       "   rooms  count     %\n",
       "0      1    539  70.3\n",
       "1      2    128  16.7\n",
       "2      3     63   8.2\n",
       "3      0     21   2.7\n",
       "4      4     15   2.0\n",
       "5      5      1   0.1"
      ]
     },
     "execution_count": 85,
     "metadata": {},
     "output_type": "execute_result"
    }
   ],
   "source": [
    "category = data.groupby('rooms')['ID'].count().sort_values(ascending=False).reset_index()\n",
    "category['%'] = 100*(category['ID'] / category['ID'].sum()).round(3)\n",
    "category = category.rename(columns={'ID':'count'})\n",
    "category"
   ]
  },
  {
   "cell_type": "code",
   "execution_count": 105,
   "id": "cf3402f6",
   "metadata": {},
   "outputs": [
    {
     "data": {
      "text/html": [
       "<div>\n",
       "<style scoped>\n",
       "    .dataframe tbody tr th:only-of-type {\n",
       "        vertical-align: middle;\n",
       "    }\n",
       "\n",
       "    .dataframe tbody tr th {\n",
       "        vertical-align: top;\n",
       "    }\n",
       "\n",
       "    .dataframe thead th {\n",
       "        text-align: right;\n",
       "    }\n",
       "</style>\n",
       "<table border=\"1\" class=\"dataframe\">\n",
       "  <thead>\n",
       "    <tr style=\"text-align: right;\">\n",
       "      <th>rooms</th>\n",
       "      <th>district</th>\n",
       "      <th>0</th>\n",
       "      <th>1</th>\n",
       "      <th>2</th>\n",
       "      <th>3</th>\n",
       "      <th>4</th>\n",
       "      <th>5</th>\n",
       "    </tr>\n",
       "  </thead>\n",
       "  <tbody>\n",
       "    <tr>\n",
       "      <th>0</th>\n",
       "      <td>Ленинский</td>\n",
       "      <td>3.0</td>\n",
       "      <td>132.0</td>\n",
       "      <td>41.0</td>\n",
       "      <td>21.0</td>\n",
       "      <td>3.0</td>\n",
       "      <td>NaN</td>\n",
       "    </tr>\n",
       "    <tr>\n",
       "      <th>1</th>\n",
       "      <td>Октябрьский</td>\n",
       "      <td>11.0</td>\n",
       "      <td>140.0</td>\n",
       "      <td>31.0</td>\n",
       "      <td>14.0</td>\n",
       "      <td>4.0</td>\n",
       "      <td>NaN</td>\n",
       "    </tr>\n",
       "    <tr>\n",
       "      <th>2</th>\n",
       "      <td>Правобережный</td>\n",
       "      <td>NaN</td>\n",
       "      <td>168.0</td>\n",
       "      <td>11.0</td>\n",
       "      <td>11.0</td>\n",
       "      <td>5.0</td>\n",
       "      <td>NaN</td>\n",
       "    </tr>\n",
       "    <tr>\n",
       "      <th>3</th>\n",
       "      <td>Свердловский</td>\n",
       "      <td>7.0</td>\n",
       "      <td>99.0</td>\n",
       "      <td>45.0</td>\n",
       "      <td>17.0</td>\n",
       "      <td>3.0</td>\n",
       "      <td>1.0</td>\n",
       "    </tr>\n",
       "  </tbody>\n",
       "</table>\n",
       "</div>"
      ],
      "text/plain": [
       "rooms       district     0      1     2     3    4    5\n",
       "0          Ленинский   3.0  132.0  41.0  21.0  3.0  NaN\n",
       "1        Октябрьский  11.0  140.0  31.0  14.0  4.0  NaN\n",
       "2      Правобережный   NaN  168.0  11.0  11.0  5.0  NaN\n",
       "3       Свердловский   7.0   99.0  45.0  17.0  3.0  1.0"
      ]
     },
     "execution_count": 105,
     "metadata": {},
     "output_type": "execute_result"
    }
   ],
   "source": [
    "data_district = data.pivot_table(index = 'district', values = 'ID', columns='rooms', aggfunc = 'count').reset_index()\n",
    "data_district "
   ]
  },
  {
   "cell_type": "code",
   "execution_count": 98,
   "id": "e2a8e017",
   "metadata": {},
   "outputs": [
    {
     "ename": "ValueError",
     "evalue": "All arguments should have the same length. The length of column argument `df[y]` is 4, whereas the length of  previously-processed arguments ['x'] is 6",
     "output_type": "error",
     "traceback": [
      "\u001b[1;31m---------------------------------------------------------------------------\u001b[0m",
      "\u001b[1;31mValueError\u001b[0m                                Traceback (most recent call last)",
      "Cell \u001b[1;32mIn[98], line 3\u001b[0m\n\u001b[0;32m      1\u001b[0m \u001b[38;5;66;03m# строим гистограммы \u001b[39;00m\n\u001b[0;32m      2\u001b[0m \u001b[38;5;28;01mimport\u001b[39;00m \u001b[38;5;21;01mplotly\u001b[39;00m\u001b[38;5;21;01m.\u001b[39;00m\u001b[38;5;21;01mexpress\u001b[39;00m \u001b[38;5;28;01mas\u001b[39;00m \u001b[38;5;21;01mpx\u001b[39;00m\n\u001b[1;32m----> 3\u001b[0m fig \u001b[38;5;241m=\u001b[39m \u001b[43mpx\u001b[49m\u001b[38;5;241;43m.\u001b[39;49m\u001b[43mhistogram\u001b[49m\u001b[43m(\u001b[49m\u001b[43mdata_district\u001b[49m\u001b[43m,\u001b[49m\u001b[43m \u001b[49m\u001b[38;5;66;43;03m# загружаем данные \u001b[39;49;00m\n\u001b[0;32m      4\u001b[0m \u001b[43m                   \u001b[49m\u001b[43mx\u001b[49m\u001b[38;5;241;43m=\u001b[39;49m\u001b[43m[\u001b[49m\u001b[38;5;124;43m'\u001b[39;49m\u001b[38;5;124;43m0\u001b[39;49m\u001b[38;5;124;43m'\u001b[39;49m\u001b[43m,\u001b[49m\u001b[43m \u001b[49m\u001b[38;5;124;43m'\u001b[39;49m\u001b[38;5;124;43m1\u001b[39;49m\u001b[38;5;124;43m'\u001b[39;49m\u001b[43m,\u001b[49m\u001b[43m \u001b[49m\u001b[38;5;124;43m'\u001b[39;49m\u001b[38;5;124;43m2\u001b[39;49m\u001b[38;5;124;43m'\u001b[39;49m\u001b[43m,\u001b[49m\u001b[43m \u001b[49m\u001b[38;5;124;43m'\u001b[39;49m\u001b[38;5;124;43m3\u001b[39;49m\u001b[38;5;124;43m'\u001b[39;49m\u001b[43m,\u001b[49m\u001b[43m \u001b[49m\u001b[38;5;124;43m'\u001b[39;49m\u001b[38;5;124;43m4\u001b[39;49m\u001b[38;5;124;43m'\u001b[39;49m\u001b[43m,\u001b[49m\u001b[43m \u001b[49m\u001b[38;5;124;43m'\u001b[39;49m\u001b[38;5;124;43m5\u001b[39;49m\u001b[38;5;124;43m'\u001b[39;49m\u001b[43m]\u001b[49m\u001b[43m,\u001b[49m\u001b[43m \u001b[49m\u001b[38;5;66;43;03m# указываем столбец с данными для оси X \u001b[39;49;00m\n\u001b[0;32m      5\u001b[0m \u001b[43m                   \u001b[49m\u001b[43my\u001b[49m\u001b[38;5;241;43m=\u001b[39;49m\u001b[43m \u001b[49m\u001b[38;5;124;43m'\u001b[39;49m\u001b[38;5;124;43mdistrict\u001b[39;49m\u001b[38;5;124;43m'\u001b[39;49m\u001b[43m,\u001b[49m\n\u001b[0;32m      6\u001b[0m \u001b[43m                   \u001b[49m\u001b[43mtitle\u001b[49m\u001b[38;5;241;43m=\u001b[39;49m\u001b[38;5;124;43m'\u001b[39;49m\u001b[38;5;124;43mРаспределение\u001b[39;49m\u001b[38;5;124;43m'\u001b[39;49m\u001b[43m)\u001b[49m \u001b[38;5;66;03m# указываем заголовок \u001b[39;00m\n\u001b[0;32m      7\u001b[0m fig\u001b[38;5;241m.\u001b[39mupdate_layout(yaxis_title \u001b[38;5;241m=\u001b[39m\u001b[38;5;124m'\u001b[39m\u001b[38;5;124mРайоны\u001b[39m\u001b[38;5;124m'\u001b[39m) \u001b[38;5;66;03m# подпись для оси X \u001b[39;00m\n\u001b[0;32m      8\u001b[0m fig\u001b[38;5;241m.\u001b[39mupdate_layout(xaxis_title \u001b[38;5;241m=\u001b[39m\u001b[38;5;124m'\u001b[39m\u001b[38;5;124mКол-во комнат\u001b[39m\u001b[38;5;124m'\u001b[39m) \u001b[38;5;66;03m# подпись для оси Y \u001b[39;00m\n",
      "File \u001b[1;32m~\\anaconda3\\lib\\site-packages\\plotly\\express\\_chart_types.py:480\u001b[0m, in \u001b[0;36mhistogram\u001b[1;34m(data_frame, x, y, color, pattern_shape, facet_row, facet_col, facet_col_wrap, facet_row_spacing, facet_col_spacing, hover_name, hover_data, animation_frame, animation_group, category_orders, labels, color_discrete_sequence, color_discrete_map, pattern_shape_sequence, pattern_shape_map, marginal, opacity, orientation, barmode, barnorm, histnorm, log_x, log_y, range_x, range_y, histfunc, cumulative, nbins, text_auto, title, template, width, height)\u001b[0m\n\u001b[0;32m    434\u001b[0m \u001b[38;5;28;01mdef\u001b[39;00m \u001b[38;5;21mhistogram\u001b[39m(\n\u001b[0;32m    435\u001b[0m     data_frame\u001b[38;5;241m=\u001b[39m\u001b[38;5;28;01mNone\u001b[39;00m,\n\u001b[0;32m    436\u001b[0m     x\u001b[38;5;241m=\u001b[39m\u001b[38;5;28;01mNone\u001b[39;00m,\n\u001b[1;32m   (...)\u001b[0m\n\u001b[0;32m    472\u001b[0m     height\u001b[38;5;241m=\u001b[39m\u001b[38;5;28;01mNone\u001b[39;00m,\n\u001b[0;32m    473\u001b[0m ) \u001b[38;5;241m-\u001b[39m\u001b[38;5;241m>\u001b[39m go\u001b[38;5;241m.\u001b[39mFigure:\n\u001b[0;32m    474\u001b[0m \u001b[38;5;250m    \u001b[39m\u001b[38;5;124;03m\"\"\"\u001b[39;00m\n\u001b[0;32m    475\u001b[0m \u001b[38;5;124;03m    In a histogram, rows of `data_frame` are grouped together into a\u001b[39;00m\n\u001b[0;32m    476\u001b[0m \u001b[38;5;124;03m    rectangular mark to visualize the 1D distribution of an aggregate\u001b[39;00m\n\u001b[0;32m    477\u001b[0m \u001b[38;5;124;03m    function `histfunc` (e.g. the count or sum) of the value `y` (or `x` if\u001b[39;00m\n\u001b[0;32m    478\u001b[0m \u001b[38;5;124;03m    `orientation` is `'h'`).\u001b[39;00m\n\u001b[0;32m    479\u001b[0m \u001b[38;5;124;03m    \"\"\"\u001b[39;00m\n\u001b[1;32m--> 480\u001b[0m     \u001b[38;5;28;01mreturn\u001b[39;00m \u001b[43mmake_figure\u001b[49m\u001b[43m(\u001b[49m\n\u001b[0;32m    481\u001b[0m \u001b[43m        \u001b[49m\u001b[43margs\u001b[49m\u001b[38;5;241;43m=\u001b[39;49m\u001b[38;5;28;43mlocals\u001b[39;49m\u001b[43m(\u001b[49m\u001b[43m)\u001b[49m\u001b[43m,\u001b[49m\n\u001b[0;32m    482\u001b[0m \u001b[43m        \u001b[49m\u001b[43mconstructor\u001b[49m\u001b[38;5;241;43m=\u001b[39;49m\u001b[43mgo\u001b[49m\u001b[38;5;241;43m.\u001b[39;49m\u001b[43mHistogram\u001b[49m\u001b[43m,\u001b[49m\n\u001b[0;32m    483\u001b[0m \u001b[43m        \u001b[49m\u001b[43mtrace_patch\u001b[49m\u001b[38;5;241;43m=\u001b[39;49m\u001b[38;5;28;43mdict\u001b[39;49m\u001b[43m(\u001b[49m\n\u001b[0;32m    484\u001b[0m \u001b[43m            \u001b[49m\u001b[43mhistnorm\u001b[49m\u001b[38;5;241;43m=\u001b[39;49m\u001b[43mhistnorm\u001b[49m\u001b[43m,\u001b[49m\n\u001b[0;32m    485\u001b[0m \u001b[43m            \u001b[49m\u001b[43mhistfunc\u001b[49m\u001b[38;5;241;43m=\u001b[39;49m\u001b[43mhistfunc\u001b[49m\u001b[43m,\u001b[49m\n\u001b[0;32m    486\u001b[0m \u001b[43m            \u001b[49m\u001b[43mcumulative\u001b[49m\u001b[38;5;241;43m=\u001b[39;49m\u001b[38;5;28;43mdict\u001b[39;49m\u001b[43m(\u001b[49m\u001b[43menabled\u001b[49m\u001b[38;5;241;43m=\u001b[39;49m\u001b[43mcumulative\u001b[49m\u001b[43m)\u001b[49m\u001b[43m,\u001b[49m\n\u001b[0;32m    487\u001b[0m \u001b[43m        \u001b[49m\u001b[43m)\u001b[49m\u001b[43m,\u001b[49m\n\u001b[0;32m    488\u001b[0m \u001b[43m        \u001b[49m\u001b[43mlayout_patch\u001b[49m\u001b[38;5;241;43m=\u001b[39;49m\u001b[38;5;28;43mdict\u001b[39;49m\u001b[43m(\u001b[49m\u001b[43mbarmode\u001b[49m\u001b[38;5;241;43m=\u001b[39;49m\u001b[43mbarmode\u001b[49m\u001b[43m,\u001b[49m\u001b[43m \u001b[49m\u001b[43mbarnorm\u001b[49m\u001b[38;5;241;43m=\u001b[39;49m\u001b[43mbarnorm\u001b[49m\u001b[43m)\u001b[49m\u001b[43m,\u001b[49m\n\u001b[0;32m    489\u001b[0m \u001b[43m    \u001b[49m\u001b[43m)\u001b[49m\n",
      "File \u001b[1;32m~\\anaconda3\\lib\\site-packages\\plotly\\express\\_core.py:2090\u001b[0m, in \u001b[0;36mmake_figure\u001b[1;34m(args, constructor, trace_patch, layout_patch)\u001b[0m\n\u001b[0;32m   2087\u001b[0m layout_patch \u001b[38;5;241m=\u001b[39m layout_patch \u001b[38;5;129;01mor\u001b[39;00m {}\n\u001b[0;32m   2088\u001b[0m apply_default_cascade(args)\n\u001b[1;32m-> 2090\u001b[0m args \u001b[38;5;241m=\u001b[39m \u001b[43mbuild_dataframe\u001b[49m\u001b[43m(\u001b[49m\u001b[43margs\u001b[49m\u001b[43m,\u001b[49m\u001b[43m \u001b[49m\u001b[43mconstructor\u001b[49m\u001b[43m)\u001b[49m\n\u001b[0;32m   2091\u001b[0m \u001b[38;5;28;01mif\u001b[39;00m constructor \u001b[38;5;129;01min\u001b[39;00m [go\u001b[38;5;241m.\u001b[39mTreemap, go\u001b[38;5;241m.\u001b[39mSunburst, go\u001b[38;5;241m.\u001b[39mIcicle] \u001b[38;5;129;01mand\u001b[39;00m args[\u001b[38;5;124m\"\u001b[39m\u001b[38;5;124mpath\u001b[39m\u001b[38;5;124m\"\u001b[39m] \u001b[38;5;129;01mis\u001b[39;00m \u001b[38;5;129;01mnot\u001b[39;00m \u001b[38;5;28;01mNone\u001b[39;00m:\n\u001b[0;32m   2092\u001b[0m     args \u001b[38;5;241m=\u001b[39m process_dataframe_hierarchy(args)\n",
      "File \u001b[1;32m~\\anaconda3\\lib\\site-packages\\plotly\\express\\_core.py:1492\u001b[0m, in \u001b[0;36mbuild_dataframe\u001b[1;34m(args, constructor)\u001b[0m\n\u001b[0;32m   1489\u001b[0m     args[\u001b[38;5;124m\"\u001b[39m\u001b[38;5;124mcolor\u001b[39m\u001b[38;5;124m\"\u001b[39m] \u001b[38;5;241m=\u001b[39m \u001b[38;5;28;01mNone\u001b[39;00m\n\u001b[0;32m   1490\u001b[0m \u001b[38;5;66;03m# now that things have been prepped, we do the systematic rewriting of `args`\u001b[39;00m\n\u001b[1;32m-> 1492\u001b[0m df_output, wide_id_vars \u001b[38;5;241m=\u001b[39m \u001b[43mprocess_args_into_dataframe\u001b[49m\u001b[43m(\u001b[49m\n\u001b[0;32m   1493\u001b[0m \u001b[43m    \u001b[49m\u001b[43margs\u001b[49m\u001b[43m,\u001b[49m\u001b[43m \u001b[49m\u001b[43mwide_mode\u001b[49m\u001b[43m,\u001b[49m\u001b[43m \u001b[49m\u001b[43mvar_name\u001b[49m\u001b[43m,\u001b[49m\u001b[43m \u001b[49m\u001b[43mvalue_name\u001b[49m\n\u001b[0;32m   1494\u001b[0m \u001b[43m\u001b[49m\u001b[43m)\u001b[49m\n\u001b[0;32m   1496\u001b[0m \u001b[38;5;66;03m# now that `df_output` exists and `args` contains only references, we complete\u001b[39;00m\n\u001b[0;32m   1497\u001b[0m \u001b[38;5;66;03m# the special-case and wide-mode handling by further rewriting args and/or mutating\u001b[39;00m\n\u001b[0;32m   1498\u001b[0m \u001b[38;5;66;03m# df_output\u001b[39;00m\n\u001b[0;32m   1500\u001b[0m count_name \u001b[38;5;241m=\u001b[39m _escape_col_name(df_output, \u001b[38;5;124m\"\u001b[39m\u001b[38;5;124mcount\u001b[39m\u001b[38;5;124m\"\u001b[39m, [var_name, value_name])\n",
      "File \u001b[1;32m~\\anaconda3\\lib\\site-packages\\plotly\\express\\_core.py:1215\u001b[0m, in \u001b[0;36mprocess_args_into_dataframe\u001b[1;34m(args, wide_mode, var_name, value_name)\u001b[0m\n\u001b[0;32m   1213\u001b[0m         \u001b[38;5;28;01mraise\u001b[39;00m \u001b[38;5;167;01mValueError\u001b[39;00m(err_msg)\n\u001b[0;32m   1214\u001b[0m \u001b[38;5;28;01melif\u001b[39;00m length \u001b[38;5;129;01mand\u001b[39;00m \u001b[38;5;28mlen\u001b[39m(df_input[argument]) \u001b[38;5;241m!=\u001b[39m length:\n\u001b[1;32m-> 1215\u001b[0m     \u001b[38;5;28;01mraise\u001b[39;00m \u001b[38;5;167;01mValueError\u001b[39;00m(\n\u001b[0;32m   1216\u001b[0m         \u001b[38;5;124m\"\u001b[39m\u001b[38;5;124mAll arguments should have the same length. \u001b[39m\u001b[38;5;124m\"\u001b[39m\n\u001b[0;32m   1217\u001b[0m         \u001b[38;5;124m\"\u001b[39m\u001b[38;5;124mThe length of column argument `df[\u001b[39m\u001b[38;5;132;01m%s\u001b[39;00m\u001b[38;5;124m]` is \u001b[39m\u001b[38;5;132;01m%d\u001b[39;00m\u001b[38;5;124m, whereas the \u001b[39m\u001b[38;5;124m\"\u001b[39m\n\u001b[0;32m   1218\u001b[0m         \u001b[38;5;124m\"\u001b[39m\u001b[38;5;124mlength of  previously-processed arguments \u001b[39m\u001b[38;5;132;01m%s\u001b[39;00m\u001b[38;5;124m is \u001b[39m\u001b[38;5;132;01m%d\u001b[39;00m\u001b[38;5;124m\"\u001b[39m\n\u001b[0;32m   1219\u001b[0m         \u001b[38;5;241m%\u001b[39m (\n\u001b[0;32m   1220\u001b[0m             field,\n\u001b[0;32m   1221\u001b[0m             \u001b[38;5;28mlen\u001b[39m(df_input[argument]),\n\u001b[0;32m   1222\u001b[0m             \u001b[38;5;28mstr\u001b[39m(\u001b[38;5;28mlist\u001b[39m(df_output\u001b[38;5;241m.\u001b[39mkeys())),\n\u001b[0;32m   1223\u001b[0m             length,\n\u001b[0;32m   1224\u001b[0m         )\n\u001b[0;32m   1225\u001b[0m     )\n\u001b[0;32m   1226\u001b[0m \u001b[38;5;28;01melse\u001b[39;00m:\n\u001b[0;32m   1227\u001b[0m     col_name \u001b[38;5;241m=\u001b[39m \u001b[38;5;28mstr\u001b[39m(argument)\n",
      "\u001b[1;31mValueError\u001b[0m: All arguments should have the same length. The length of column argument `df[y]` is 4, whereas the length of  previously-processed arguments ['x'] is 6"
     ]
    }
   ],
   "source": [
    "# строим гистограммы \n",
    "import plotly.express as px\n",
    "fig = px.histogram(data_district, # загружаем данные \n",
    "                   x=['0', '1', '2', '3', '4', '5'], # указываем столбец с данными для оси X \n",
    "                   y= 'district',\n",
    "                   title='Распределение') # указываем заголовок \n",
    "fig.update_layout(yaxis_title ='Районы') # подпись для оси X \n",
    "fig.update_layout(xaxis_title ='Кол-во комнат') # подпись для оси Y \n",
    "fig.show(); # выводим график"
   ]
  },
  {
   "cell_type": "markdown",
   "id": "c20fb35e",
   "metadata": {},
   "source": []
  },
  {
   "cell_type": "code",
   "execution_count": null,
   "id": "04bc9b70",
   "metadata": {},
   "outputs": [],
   "source": []
  },
  {
   "cell_type": "code",
   "execution_count": null,
   "id": "140bd9f2",
   "metadata": {},
   "outputs": [],
   "source": []
  }
 ],
 "metadata": {
  "kernelspec": {
   "display_name": "Python 3 (ipykernel)",
   "language": "python",
   "name": "python3"
  },
  "language_info": {
   "codemirror_mode": {
    "name": "ipython",
    "version": 3
   },
   "file_extension": ".py",
   "mimetype": "text/x-python",
   "name": "python",
   "nbconvert_exporter": "python",
   "pygments_lexer": "ipython3",
   "version": "3.9.18"
  }
 },
 "nbformat": 4,
 "nbformat_minor": 5
}
