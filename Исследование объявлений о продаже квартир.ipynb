{
 "cells": [
  {
   "cell_type": "markdown",
   "id": "611c0993",
   "metadata": {},
   "source": [
    "# Исследование объявлений о продаже квартир\n",
    "### Проведем иследование данных о квартирах предоставленных сайтом Циан "
   ]
  },
  {
   "cell_type": "code",
   "execution_count": 20,
   "id": "0762bb1a",
   "metadata": {},
   "outputs": [
    {
     "data": {
      "text/html": [
       "<div>\n",
       "<style scoped>\n",
       "    .dataframe tbody tr th:only-of-type {\n",
       "        vertical-align: middle;\n",
       "    }\n",
       "\n",
       "    .dataframe tbody tr th {\n",
       "        vertical-align: top;\n",
       "    }\n",
       "\n",
       "    .dataframe thead th {\n",
       "        text-align: right;\n",
       "    }\n",
       "</style>\n",
       "<table border=\"1\" class=\"dataframe\">\n",
       "  <thead>\n",
       "    <tr style=\"text-align: right;\">\n",
       "      <th></th>\n",
       "      <th>ID</th>\n",
       "      <th>Количество комнат</th>\n",
       "      <th>Тип</th>\n",
       "      <th>район</th>\n",
       "      <th>Адрес</th>\n",
       "      <th>Площадь, м2</th>\n",
       "      <th>Этаж</th>\n",
       "      <th>Цена</th>\n",
       "      <th>Ремонт</th>\n",
       "      <th>Ссылка на объявление</th>\n",
       "    </tr>\n",
       "  </thead>\n",
       "  <tbody>\n",
       "    <tr>\n",
       "      <th>0</th>\n",
       "      <td>300151528</td>\n",
       "      <td>2.0</td>\n",
       "      <td>Продажа квартиры в новостройке</td>\n",
       "      <td>Свердловский</td>\n",
       "      <td>Иркутская область, Иркутск, улица Костычева</td>\n",
       "      <td>34.8</td>\n",
       "      <td>4/12</td>\n",
       "      <td>5220000</td>\n",
       "      <td>NaN</td>\n",
       "      <td>https://www.cian.ru/sale/flat/300151528</td>\n",
       "    </tr>\n",
       "    <tr>\n",
       "      <th>1</th>\n",
       "      <td>297027698</td>\n",
       "      <td>2.0</td>\n",
       "      <td>Продажа квартиры</td>\n",
       "      <td>Свердловский</td>\n",
       "      <td>Иркутская область, Иркутск, улица Помяловского...</td>\n",
       "      <td>48.0</td>\n",
       "      <td>5/5</td>\n",
       "      <td>4450000</td>\n",
       "      <td>Косметический</td>\n",
       "      <td>https://www.cian.ru/sale/flat/297027698</td>\n",
       "    </tr>\n",
       "    <tr>\n",
       "      <th>2</th>\n",
       "      <td>300140904</td>\n",
       "      <td>2.0</td>\n",
       "      <td>Продажа квартиры</td>\n",
       "      <td>Свердловский</td>\n",
       "      <td>Иркутская область, Иркутск, улица Сергеева, 5/8</td>\n",
       "      <td>58.7</td>\n",
       "      <td>2/4</td>\n",
       "      <td>5700000</td>\n",
       "      <td>Евроремонт</td>\n",
       "      <td>https://www.cian.ru/sale/flat/300140904</td>\n",
       "    </tr>\n",
       "    <tr>\n",
       "      <th>3</th>\n",
       "      <td>295915593</td>\n",
       "      <td>1.0</td>\n",
       "      <td>Продажа квартиры</td>\n",
       "      <td>Свердловский</td>\n",
       "      <td>Иркутская область, Иркутск, улица Багратиона, ...</td>\n",
       "      <td>43.0</td>\n",
       "      <td>7/9</td>\n",
       "      <td>5990000</td>\n",
       "      <td>Косметический</td>\n",
       "      <td>https://www.cian.ru/sale/flat/295915593</td>\n",
       "    </tr>\n",
       "    <tr>\n",
       "      <th>4</th>\n",
       "      <td>295895678</td>\n",
       "      <td>3.0</td>\n",
       "      <td>Продажа квартиры в новостройке</td>\n",
       "      <td>Свердловский</td>\n",
       "      <td>Иркутская область, Иркутск, улица Костычева</td>\n",
       "      <td>66.1</td>\n",
       "      <td>12/12</td>\n",
       "      <td>7204900</td>\n",
       "      <td>NaN</td>\n",
       "      <td>https://www.cian.ru/sale/flat/295895678</td>\n",
       "    </tr>\n",
       "  </tbody>\n",
       "</table>\n",
       "</div>"
      ],
      "text/plain": [
       "          ID  Количество комнат                             Тип         район  \\\n",
       "0  300151528                2.0  Продажа квартиры в новостройке  Свердловский   \n",
       "1  297027698                2.0                Продажа квартиры  Свердловский   \n",
       "2  300140904                2.0                Продажа квартиры  Свердловский   \n",
       "3  295915593                1.0                Продажа квартиры  Свердловский   \n",
       "4  295895678                3.0  Продажа квартиры в новостройке  Свердловский   \n",
       "\n",
       "                                               Адрес  Площадь, м2   Этаж  \\\n",
       "0        Иркутская область, Иркутск, улица Костычева         34.8   4/12   \n",
       "1  Иркутская область, Иркутск, улица Помяловского...         48.0    5/5   \n",
       "2    Иркутская область, Иркутск, улица Сергеева, 5/8         58.7    2/4   \n",
       "3  Иркутская область, Иркутск, улица Багратиона, ...         43.0    7/9   \n",
       "4        Иркутская область, Иркутск, улица Костычева         66.1  12/12   \n",
       "\n",
       "      Цена         Ремонт                     Ссылка на объявление  \n",
       "0  5220000            NaN  https://www.cian.ru/sale/flat/300151528  \n",
       "1  4450000  Косметический  https://www.cian.ru/sale/flat/297027698  \n",
       "2  5700000     Евроремонт  https://www.cian.ru/sale/flat/300140904  \n",
       "3  5990000  Косметический  https://www.cian.ru/sale/flat/295915593  \n",
       "4  7204900            NaN  https://www.cian.ru/sale/flat/295895678  "
      ]
     },
     "metadata": {},
     "output_type": "display_data"
    }
   ],
   "source": [
    "#Импортируем библиотеки\n",
    "import pandas as pd\n",
    "import matplotlib.pyplot as plt\n",
    "import plotly.express as px\n",
    "\n",
    "#Загружаем данные \n",
    "data = pd.read_csv('C:/Users/admin/all/offers_ALL 1.csv', sep=';')\n",
    "\n",
    "display(data.head())\n"
   ]
  },
  {
   "cell_type": "code",
   "execution_count": 21,
   "id": "d86c43a3",
   "metadata": {
    "scrolled": true
   },
   "outputs": [
    {
     "name": "stdout",
     "output_type": "stream",
     "text": [
      "<class 'pandas.core.frame.DataFrame'>\n",
      "RangeIndex: 767 entries, 0 to 766\n",
      "Data columns (total 10 columns):\n",
      " #   Column    Non-Null Count  Dtype  \n",
      "---  ------    --------------  -----  \n",
      " 0   ID        767 non-null    int64  \n",
      " 1   rooms     746 non-null    float64\n",
      " 2   type      767 non-null    object \n",
      " 3   district  767 non-null    object \n",
      " 4   address   767 non-null    object \n",
      " 5   area      767 non-null    float64\n",
      " 6   floor     767 non-null    object \n",
      " 7   price     767 non-null    int64  \n",
      " 8   repair    86 non-null     object \n",
      " 9   link      767 non-null    object \n",
      "dtypes: float64(2), int64(2), object(6)\n",
      "memory usage: 60.0+ KB\n"
     ]
    },
    {
     "data": {
      "text/plain": [
       "None"
      ]
     },
     "metadata": {},
     "output_type": "display_data"
    }
   ],
   "source": [
    "# переименование столбцов для удобного использования \n",
    "data = data.rename(columns={'Количество комнат': 'rooms', \n",
    "                               'Тип': 'type', \n",
    "                               'район': 'district', \n",
    "                               'Адрес': 'address', \n",
    "                               'Площадь, м2': 'area',\n",
    "                               'Этаж': 'floor', \n",
    "                               'Цена': 'price', \n",
    "                               'Ремонт': 'repair', \n",
    "                               'Ссылка на объявление': 'link'})\n",
    "# смотрим основную информацию о датафрейме\n",
    "display(data.info())"
   ]
  },
  {
   "cell_type": "markdown",
   "id": "f4965006",
   "metadata": {},
   "source": [
    "### Перед работой с данными необходимо произвести следующие изменения и анализ данных:\n",
    "#### 1. Разделим столбец \"floor\" - возьмем из него информацию за знаком \"/\" и добавим столбец с данными о количестве этажей\n",
    "\n",
    "\n",
    "#### 2. Изменим типы объектов в следующих столбцах:\n",
    "*rooms* - изменить на тип объекта int\\\n",
    "*floor* - изменить на int \n",
    "\n",
    "#### 3. Определим количество пропущенных значениях в столбцах\n",
    "\n",
    "#### 4. Заменим пропуски в столбцах"
   ]
  },
  {
   "cell_type": "code",
   "execution_count": 22,
   "id": "860cb95b",
   "metadata": {},
   "outputs": [
    {
     "data": {
      "text/html": [
       "<div>\n",
       "<style scoped>\n",
       "    .dataframe tbody tr th:only-of-type {\n",
       "        vertical-align: middle;\n",
       "    }\n",
       "\n",
       "    .dataframe tbody tr th {\n",
       "        vertical-align: top;\n",
       "    }\n",
       "\n",
       "    .dataframe thead th {\n",
       "        text-align: right;\n",
       "    }\n",
       "</style>\n",
       "<table border=\"1\" class=\"dataframe\">\n",
       "  <thead>\n",
       "    <tr style=\"text-align: right;\">\n",
       "      <th></th>\n",
       "      <th>ID</th>\n",
       "      <th>rooms</th>\n",
       "      <th>type</th>\n",
       "      <th>district</th>\n",
       "      <th>address</th>\n",
       "      <th>area</th>\n",
       "      <th>floor</th>\n",
       "      <th>price</th>\n",
       "      <th>repair</th>\n",
       "      <th>link</th>\n",
       "      <th>floor_all</th>\n",
       "    </tr>\n",
       "  </thead>\n",
       "  <tbody>\n",
       "    <tr>\n",
       "      <th>416</th>\n",
       "      <td>286807967</td>\n",
       "      <td>2.0</td>\n",
       "      <td>Продажа квартиры в новостройке</td>\n",
       "      <td>Октябрьский</td>\n",
       "      <td>Иркутская область, Иркутск, набережная Верхняя</td>\n",
       "      <td>72.25</td>\n",
       "      <td>7</td>\n",
       "      <td>12175350</td>\n",
       "      <td>NaN</td>\n",
       "      <td>https://www.cian.ru/sale/flat/286807967</td>\n",
       "      <td>18</td>\n",
       "    </tr>\n",
       "    <tr>\n",
       "      <th>750</th>\n",
       "      <td>296464621</td>\n",
       "      <td>2.0</td>\n",
       "      <td>Продажа квартиры в новостройке</td>\n",
       "      <td>Ленинский</td>\n",
       "      <td>Иркутская область, Иркутск, Пулковский переуло...</td>\n",
       "      <td>44.59</td>\n",
       "      <td>1</td>\n",
       "      <td>5500000</td>\n",
       "      <td>NaN</td>\n",
       "      <td>https://www.cian.ru/sale/flat/296464621</td>\n",
       "      <td>15</td>\n",
       "    </tr>\n",
       "    <tr>\n",
       "      <th>195</th>\n",
       "      <td>297248047</td>\n",
       "      <td>2.0</td>\n",
       "      <td>Продажа квартиры в новостройке</td>\n",
       "      <td>Правобережный</td>\n",
       "      <td>Иркутская область, Иркутск, Култукская улица</td>\n",
       "      <td>63.98</td>\n",
       "      <td>3</td>\n",
       "      <td>10204810</td>\n",
       "      <td>NaN</td>\n",
       "      <td>https://www.cian.ru/sale/flat/297248047</td>\n",
       "      <td>19</td>\n",
       "    </tr>\n",
       "    <tr>\n",
       "      <th>33</th>\n",
       "      <td>292997521</td>\n",
       "      <td>1.0</td>\n",
       "      <td>Продажа квартиры в новостройке</td>\n",
       "      <td>Свердловский</td>\n",
       "      <td>Иркутская область, Иркутск, улица Румянцева, 48</td>\n",
       "      <td>37.70</td>\n",
       "      <td>16</td>\n",
       "      <td>6123200</td>\n",
       "      <td>NaN</td>\n",
       "      <td>https://www.cian.ru/sale/flat/292997521</td>\n",
       "      <td>17</td>\n",
       "    </tr>\n",
       "    <tr>\n",
       "      <th>6</th>\n",
       "      <td>294764318</td>\n",
       "      <td>2.0</td>\n",
       "      <td>Продажа квартиры в новостройке</td>\n",
       "      <td>Свердловский</td>\n",
       "      <td>Иркутская область, Иркутск, проезд Юрия Тена, 14</td>\n",
       "      <td>68.15</td>\n",
       "      <td>2</td>\n",
       "      <td>9541000</td>\n",
       "      <td>NaN</td>\n",
       "      <td>https://www.cian.ru/sale/flat/294764318</td>\n",
       "      <td>15</td>\n",
       "    </tr>\n",
       "  </tbody>\n",
       "</table>\n",
       "</div>"
      ],
      "text/plain": [
       "            ID  rooms                            type       district  \\\n",
       "416  286807967    2.0  Продажа квартиры в новостройке    Октябрьский   \n",
       "750  296464621    2.0  Продажа квартиры в новостройке      Ленинский   \n",
       "195  297248047    2.0  Продажа квартиры в новостройке  Правобережный   \n",
       "33   292997521    1.0  Продажа квартиры в новостройке   Свердловский   \n",
       "6    294764318    2.0  Продажа квартиры в новостройке   Свердловский   \n",
       "\n",
       "                                               address   area floor     price  \\\n",
       "416     Иркутская область, Иркутск, набережная Верхняя  72.25     7  12175350   \n",
       "750  Иркутская область, Иркутск, Пулковский переуло...  44.59     1   5500000   \n",
       "195       Иркутская область, Иркутск, Култукская улица  63.98     3  10204810   \n",
       "33     Иркутская область, Иркутск, улица Румянцева, 48  37.70    16   6123200   \n",
       "6     Иркутская область, Иркутск, проезд Юрия Тена, 14  68.15     2   9541000   \n",
       "\n",
       "    repair                                     link floor_all  \n",
       "416    NaN  https://www.cian.ru/sale/flat/286807967        18  \n",
       "750    NaN  https://www.cian.ru/sale/flat/296464621        15  \n",
       "195    NaN  https://www.cian.ru/sale/flat/297248047        19  \n",
       "33     NaN  https://www.cian.ru/sale/flat/292997521        17  \n",
       "6      NaN  https://www.cian.ru/sale/flat/294764318        15  "
      ]
     },
     "execution_count": 22,
     "metadata": {},
     "output_type": "execute_result"
    }
   ],
   "source": [
    "# добавим столбец 'floor_all'\n",
    "data['floor_all'] = data['floor'].str.split('/').str.get(1)\n",
    "data['floor'] = data['floor'].str.split('/').str.get(0)\n",
    "data.sample(5) "
   ]
  },
  {
   "cell_type": "code",
   "execution_count": 23,
   "id": "92fddd66",
   "metadata": {},
   "outputs": [],
   "source": [
    "# изменим тип данных для дальнейшего исследовани\n",
    "data['rooms'] = data['rooms'].fillna(0).astype('int')\n",
    "# data['area'] = data['area'].fillna(0).astype('int')\n",
    "data['floor'] = data['floor'].fillna(0).astype('int')"
   ]
  },
  {
   "cell_type": "code",
   "execution_count": 24,
   "id": "adf3cc2f",
   "metadata": {},
   "outputs": [
    {
     "data": {
      "text/html": [
       "<div>\n",
       "<style scoped>\n",
       "    .dataframe tbody tr th:only-of-type {\n",
       "        vertical-align: middle;\n",
       "    }\n",
       "\n",
       "    .dataframe tbody tr th {\n",
       "        vertical-align: top;\n",
       "    }\n",
       "\n",
       "    .dataframe thead th {\n",
       "        text-align: right;\n",
       "    }\n",
       "</style>\n",
       "<table border=\"1\" class=\"dataframe\">\n",
       "  <thead>\n",
       "    <tr style=\"text-align: right;\">\n",
       "      <th></th>\n",
       "      <th>ID</th>\n",
       "      <th>rooms</th>\n",
       "      <th>type</th>\n",
       "      <th>district</th>\n",
       "      <th>address</th>\n",
       "      <th>area</th>\n",
       "      <th>floor</th>\n",
       "      <th>price</th>\n",
       "      <th>repair</th>\n",
       "      <th>link</th>\n",
       "      <th>floor_all</th>\n",
       "    </tr>\n",
       "  </thead>\n",
       "  <tbody>\n",
       "    <tr>\n",
       "      <th>0</th>\n",
       "      <td>300151528</td>\n",
       "      <td>2</td>\n",
       "      <td>Продажа квартиры в новостройке</td>\n",
       "      <td>Свердловский</td>\n",
       "      <td>Иркутская область, Иркутск, улица Костычева</td>\n",
       "      <td>34.8</td>\n",
       "      <td>4</td>\n",
       "      <td>5220000</td>\n",
       "      <td>NaN</td>\n",
       "      <td>https://www.cian.ru/sale/flat/300151528</td>\n",
       "      <td>12</td>\n",
       "    </tr>\n",
       "    <tr>\n",
       "      <th>1</th>\n",
       "      <td>297027698</td>\n",
       "      <td>2</td>\n",
       "      <td>Продажа квартиры</td>\n",
       "      <td>Свердловский</td>\n",
       "      <td>Иркутская область, Иркутск, улица Помяловского...</td>\n",
       "      <td>48.0</td>\n",
       "      <td>5</td>\n",
       "      <td>4450000</td>\n",
       "      <td>Косметический</td>\n",
       "      <td>https://www.cian.ru/sale/flat/297027698</td>\n",
       "      <td>5</td>\n",
       "    </tr>\n",
       "    <tr>\n",
       "      <th>2</th>\n",
       "      <td>300140904</td>\n",
       "      <td>2</td>\n",
       "      <td>Продажа квартиры</td>\n",
       "      <td>Свердловский</td>\n",
       "      <td>Иркутская область, Иркутск, улица Сергеева, 5/8</td>\n",
       "      <td>58.7</td>\n",
       "      <td>2</td>\n",
       "      <td>5700000</td>\n",
       "      <td>Евроремонт</td>\n",
       "      <td>https://www.cian.ru/sale/flat/300140904</td>\n",
       "      <td>4</td>\n",
       "    </tr>\n",
       "    <tr>\n",
       "      <th>3</th>\n",
       "      <td>295915593</td>\n",
       "      <td>1</td>\n",
       "      <td>Продажа квартиры</td>\n",
       "      <td>Свердловский</td>\n",
       "      <td>Иркутская область, Иркутск, улица Багратиона, ...</td>\n",
       "      <td>43.0</td>\n",
       "      <td>7</td>\n",
       "      <td>5990000</td>\n",
       "      <td>Косметический</td>\n",
       "      <td>https://www.cian.ru/sale/flat/295915593</td>\n",
       "      <td>9</td>\n",
       "    </tr>\n",
       "    <tr>\n",
       "      <th>4</th>\n",
       "      <td>295895678</td>\n",
       "      <td>3</td>\n",
       "      <td>Продажа квартиры в новостройке</td>\n",
       "      <td>Свердловский</td>\n",
       "      <td>Иркутская область, Иркутск, улица Костычева</td>\n",
       "      <td>66.1</td>\n",
       "      <td>12</td>\n",
       "      <td>7204900</td>\n",
       "      <td>NaN</td>\n",
       "      <td>https://www.cian.ru/sale/flat/295895678</td>\n",
       "      <td>12</td>\n",
       "    </tr>\n",
       "  </tbody>\n",
       "</table>\n",
       "</div>"
      ],
      "text/plain": [
       "          ID  rooms                            type      district  \\\n",
       "0  300151528      2  Продажа квартиры в новостройке  Свердловский   \n",
       "1  297027698      2                Продажа квартиры  Свердловский   \n",
       "2  300140904      2                Продажа квартиры  Свердловский   \n",
       "3  295915593      1                Продажа квартиры  Свердловский   \n",
       "4  295895678      3  Продажа квартиры в новостройке  Свердловский   \n",
       "\n",
       "                                             address  area  floor    price  \\\n",
       "0        Иркутская область, Иркутск, улица Костычева  34.8      4  5220000   \n",
       "1  Иркутская область, Иркутск, улица Помяловского...  48.0      5  4450000   \n",
       "2    Иркутская область, Иркутск, улица Сергеева, 5/8  58.7      2  5700000   \n",
       "3  Иркутская область, Иркутск, улица Багратиона, ...  43.0      7  5990000   \n",
       "4        Иркутская область, Иркутск, улица Костычева  66.1     12  7204900   \n",
       "\n",
       "          repair                                     link floor_all  \n",
       "0            NaN  https://www.cian.ru/sale/flat/300151528        12  \n",
       "1  Косметический  https://www.cian.ru/sale/flat/297027698         5  \n",
       "2     Евроремонт  https://www.cian.ru/sale/flat/300140904         4  \n",
       "3  Косметический  https://www.cian.ru/sale/flat/295915593         9  \n",
       "4            NaN  https://www.cian.ru/sale/flat/295895678        12  "
      ]
     },
     "metadata": {},
     "output_type": "display_data"
    },
    {
     "name": "stdout",
     "output_type": "stream",
     "text": [
      "<class 'pandas.core.frame.DataFrame'>\n",
      "RangeIndex: 767 entries, 0 to 766\n",
      "Data columns (total 11 columns):\n",
      " #   Column     Non-Null Count  Dtype  \n",
      "---  ------     --------------  -----  \n",
      " 0   ID         767 non-null    int64  \n",
      " 1   rooms      767 non-null    int32  \n",
      " 2   type       767 non-null    object \n",
      " 3   district   767 non-null    object \n",
      " 4   address    767 non-null    object \n",
      " 5   area       767 non-null    float64\n",
      " 6   floor      767 non-null    int32  \n",
      " 7   price      767 non-null    int64  \n",
      " 8   repair     86 non-null     object \n",
      " 9   link       767 non-null    object \n",
      " 10  floor_all  767 non-null    object \n",
      "dtypes: float64(1), int32(2), int64(2), object(6)\n",
      "memory usage: 60.0+ KB\n"
     ]
    },
    {
     "data": {
      "text/plain": [
       "None"
      ]
     },
     "metadata": {},
     "output_type": "display_data"
    }
   ],
   "source": [
    "display(data.head())\n",
    "display(data.info())"
   ]
  },
  {
   "cell_type": "code",
   "execution_count": 25,
   "id": "c0a71371",
   "metadata": {},
   "outputs": [
    {
     "name": "stdout",
     "output_type": "stream",
     "text": [
      "Количество дубликатов: 0\n",
      "Количие пропусков:\n"
     ]
    },
    {
     "data": {
      "text/plain": [
       "ID             0\n",
       "rooms          0\n",
       "type           0\n",
       "district       0\n",
       "address        0\n",
       "area           0\n",
       "floor          0\n",
       "price          0\n",
       "repair       681\n",
       "link           0\n",
       "floor_all      0\n",
       "dtype: int64"
      ]
     },
     "execution_count": 25,
     "metadata": {},
     "output_type": "execute_result"
    }
   ],
   "source": [
    "# посчитаем пропуски\n",
    "print('Количество дубликатов:', data.duplicated().sum())\n",
    "print('Количие пропусков:')\n",
    "data.isnull().sum() "
   ]
  },
  {
   "cell_type": "markdown",
   "id": "1fba5270",
   "metadata": {},
   "source": [
    "Пропуски в столбце с ремонтом из-за отсутсивия информации - для работы с эти столбцом необходимо заменить пропущенные значения на 0 как \"нет информации о ремонте\":"
   ]
  },
  {
   "cell_type": "code",
   "execution_count": 26,
   "id": "e4f3e9fc",
   "metadata": {},
   "outputs": [],
   "source": [
    "# замена пропусков\n",
    "data['repair'] = data['repair'].fillna(0)"
   ]
  },
  {
   "cell_type": "markdown",
   "id": "36a9fb84",
   "metadata": {},
   "source": [
    "## Анализ данных\n",
    "### Какие районы представлены в данных? Исследуем количество объектов по категориям: количество комнат, цена, площадь. Построим визуализации. "
   ]
  },
  {
   "cell_type": "code",
   "execution_count": 27,
   "id": "581ab036",
   "metadata": {},
   "outputs": [
    {
     "data": {
      "text/plain": [
       "district\n",
       "Октябрьский      200\n",
       "Ленинский        200\n",
       "Правобережный    195\n",
       "Свердловский     172\n",
       "Name: count, dtype: int64"
      ]
     },
     "metadata": {},
     "output_type": "display_data"
    },
    {
     "data": {
      "image/png": "[encoded data removed]",
      "text/plain": [
       "<Figure size 640x480 with 1 Axes>"
      ]
     },
     "metadata": {},
     "output_type": "display_data"
    }
   ],
   "source": [
    "# районы\n",
    "display(data['district'].value_counts())\n",
    "data['district'].hist();"
   ]
  },
  {
   "cell_type": "markdown",
   "id": "8e947991",
   "metadata": {},
   "source": [
    "Больше всего продаются квартиры в Октябрьском и Ленинском районах"
   ]
  },
  {
   "cell_type": "markdown",
   "id": "a40e4ee1",
   "metadata": {},
   "source": [
    "Просмотрим данные по стоблцу rooms"
   ]
  },
  {
   "cell_type": "code",
   "execution_count": 28,
   "id": "d4152447",
   "metadata": {},
   "outputs": [
    {
     "data": {
      "text/plain": [
       "array([2, 1, 3, 0, 4, 5])"
      ]
     },
     "execution_count": 28,
     "metadata": {},
     "output_type": "execute_result"
    }
   ],
   "source": [
    "data['rooms'].unique()"
   ]
  },
  {
   "cell_type": "markdown",
   "id": "fb91783c",
   "metadata": {},
   "source": [
    "По данным квартир с указаннием о количесве комнат = 0 можем сделать предположение, что данные квартиры являются новостройками со свободной планировкой. Оставим как есть."
   ]
  },
  {
   "cell_type": "code",
   "execution_count": 29,
   "id": "1485e782",
   "metadata": {},
   "outputs": [
    {
     "data": {
      "text/plain": [
       "rooms\n",
       "1    539\n",
       "2    128\n",
       "3     63\n",
       "0     21\n",
       "4     15\n",
       "5      1\n",
       "Name: count, dtype: int64"
      ]
     },
     "metadata": {},
     "output_type": "display_data"
    },
    {
     "data": {
      "text/plain": [
       "<Axes: >"
      ]
     },
     "execution_count": 29,
     "metadata": {},
     "output_type": "execute_result"
    },
    {
     "data": {
      "image/png": "[encoded data removed]",
      "text/plain": [
       "<Figure size 400x400 with 1 Axes>"
      ]
     },
     "metadata": {},
     "output_type": "display_data"
    }
   ],
   "source": [
    "display(data['rooms'].value_counts()) #посчитаем количество квартир в зависимости от количества комнат\n",
    "data['rooms'].hist(figsize=(4,4)) #построим диаграмму "
   ]
  },
  {
   "cell_type": "markdown",
   "id": "1ac59482",
   "metadata": {},
   "source": [
    "### Больше всего продается однокомнатных квартир "
   ]
  },
  {
   "cell_type": "code",
   "execution_count": 30,
   "id": "70312d92",
   "metadata": {},
   "outputs": [
    {
     "data": {
      "text/html": [
       "<div>\n",
       "<style scoped>\n",
       "    .dataframe tbody tr th:only-of-type {\n",
       "        vertical-align: middle;\n",
       "    }\n",
       "\n",
       "    .dataframe tbody tr th {\n",
       "        vertical-align: top;\n",
       "    }\n",
       "\n",
       "    .dataframe thead th {\n",
       "        text-align: right;\n",
       "    }\n",
       "</style>\n",
       "<table border=\"1\" class=\"dataframe\">\n",
       "  <thead>\n",
       "    <tr style=\"text-align: right;\">\n",
       "      <th></th>\n",
       "      <th>rooms</th>\n",
       "      <th>count</th>\n",
       "      <th>%</th>\n",
       "    </tr>\n",
       "  </thead>\n",
       "  <tbody>\n",
       "    <tr>\n",
       "      <th>0</th>\n",
       "      <td>1</td>\n",
       "      <td>539</td>\n",
       "      <td>70.3</td>\n",
       "    </tr>\n",
       "    <tr>\n",
       "      <th>1</th>\n",
       "      <td>2</td>\n",
       "      <td>128</td>\n",
       "      <td>16.7</td>\n",
       "    </tr>\n",
       "    <tr>\n",
       "      <th>2</th>\n",
       "      <td>3</td>\n",
       "      <td>63</td>\n",
       "      <td>8.2</td>\n",
       "    </tr>\n",
       "    <tr>\n",
       "      <th>3</th>\n",
       "      <td>0</td>\n",
       "      <td>21</td>\n",
       "      <td>2.7</td>\n",
       "    </tr>\n",
       "    <tr>\n",
       "      <th>4</th>\n",
       "      <td>4</td>\n",
       "      <td>15</td>\n",
       "      <td>2.0</td>\n",
       "    </tr>\n",
       "    <tr>\n",
       "      <th>5</th>\n",
       "      <td>5</td>\n",
       "      <td>1</td>\n",
       "      <td>0.1</td>\n",
       "    </tr>\n",
       "  </tbody>\n",
       "</table>\n",
       "</div>"
      ],
      "text/plain": [
       "   rooms  count     %\n",
       "0      1    539  70.3\n",
       "1      2    128  16.7\n",
       "2      3     63   8.2\n",
       "3      0     21   2.7\n",
       "4      4     15   2.0\n",
       "5      5      1   0.1"
      ]
     },
     "execution_count": 30,
     "metadata": {},
     "output_type": "execute_result"
    }
   ],
   "source": [
    "category = data.groupby('rooms')['ID'].count().sort_values(ascending=False).reset_index()\n",
    "category['%'] = 100*(category['ID'] / category['ID'].sum()).round(3)\n",
    "category = category.rename(columns={'ID':'count'})\n",
    "category"
   ]
  },
  {
   "cell_type": "code",
   "execution_count": 31,
   "id": "cf3402f6",
   "metadata": {},
   "outputs": [
    {
     "data": {
      "text/html": [
       "<div>\n",
       "<style scoped>\n",
       "    .dataframe tbody tr th:only-of-type {\n",
       "        vertical-align: middle;\n",
       "    }\n",
       "\n",
       "    .dataframe tbody tr th {\n",
       "        vertical-align: top;\n",
       "    }\n",
       "\n",
       "    .dataframe thead th {\n",
       "        text-align: right;\n",
       "    }\n",
       "</style>\n",
       "<table border=\"1\" class=\"dataframe\">\n",
       "  <thead>\n",
       "    <tr style=\"text-align: right;\">\n",
       "      <th>rooms</th>\n",
       "      <th>district</th>\n",
       "      <th>0</th>\n",
       "      <th>1</th>\n",
       "      <th>2</th>\n",
       "      <th>3</th>\n",
       "      <th>4</th>\n",
       "      <th>5</th>\n",
       "    </tr>\n",
       "  </thead>\n",
       "  <tbody>\n",
       "    <tr>\n",
       "      <th>0</th>\n",
       "      <td>Ленинский</td>\n",
       "      <td>3.0</td>\n",
       "      <td>132.0</td>\n",
       "      <td>41.0</td>\n",
       "      <td>21.0</td>\n",
       "      <td>3.0</td>\n",
       "      <td>NaN</td>\n",
       "    </tr>\n",
       "    <tr>\n",
       "      <th>1</th>\n",
       "      <td>Октябрьский</td>\n",
       "      <td>11.0</td>\n",
       "      <td>140.0</td>\n",
       "      <td>31.0</td>\n",
       "      <td>14.0</td>\n",
       "      <td>4.0</td>\n",
       "      <td>NaN</td>\n",
       "    </tr>\n",
       "    <tr>\n",
       "      <th>2</th>\n",
       "      <td>Правобережный</td>\n",
       "      <td>NaN</td>\n",
       "      <td>168.0</td>\n",
       "      <td>11.0</td>\n",
       "      <td>11.0</td>\n",
       "      <td>5.0</td>\n",
       "      <td>NaN</td>\n",
       "    </tr>\n",
       "    <tr>\n",
       "      <th>3</th>\n",
       "      <td>Свердловский</td>\n",
       "      <td>7.0</td>\n",
       "      <td>99.0</td>\n",
       "      <td>45.0</td>\n",
       "      <td>17.0</td>\n",
       "      <td>3.0</td>\n",
       "      <td>1.0</td>\n",
       "    </tr>\n",
       "  </tbody>\n",
       "</table>\n",
       "</div>"
      ],
      "text/plain": [
       "rooms       district     0      1     2     3    4    5\n",
       "0          Ленинский   3.0  132.0  41.0  21.0  3.0  NaN\n",
       "1        Октябрьский  11.0  140.0  31.0  14.0  4.0  NaN\n",
       "2      Правобережный   NaN  168.0  11.0  11.0  5.0  NaN\n",
       "3       Свердловский   7.0   99.0  45.0  17.0  3.0  1.0"
      ]
     },
     "execution_count": 31,
     "metadata": {},
     "output_type": "execute_result"
    }
   ],
   "source": [
    "data_district = data.pivot_table(index = 'district', values = 'ID', columns='rooms', aggfunc = 'count').reset_index()\n",
    "data_district "
   ]
  },
  {
   "cell_type": "code",
   "execution_count": 32,
   "id": "f41fab80",
   "metadata": {},
   "outputs": [
    {
     "data": {
      "text/html": [
       "<div>\n",
       "<style scoped>\n",
       "    .dataframe tbody tr th:only-of-type {\n",
       "        vertical-align: middle;\n",
       "    }\n",
       "\n",
       "    .dataframe tbody tr th {\n",
       "        vertical-align: top;\n",
       "    }\n",
       "\n",
       "    .dataframe thead th {\n",
       "        text-align: right;\n",
       "    }\n",
       "</style>\n",
       "<table border=\"1\" class=\"dataframe\">\n",
       "  <thead>\n",
       "    <tr style=\"text-align: right;\">\n",
       "      <th>rooms</th>\n",
       "      <th>district</th>\n",
       "      <th>0</th>\n",
       "      <th>1</th>\n",
       "      <th>2</th>\n",
       "      <th>3</th>\n",
       "      <th>4</th>\n",
       "      <th>5</th>\n",
       "    </tr>\n",
       "  </thead>\n",
       "  <tbody>\n",
       "    <tr>\n",
       "      <th>0</th>\n",
       "      <td>Ленинский</td>\n",
       "      <td>3.0</td>\n",
       "      <td>132.0</td>\n",
       "      <td>41.0</td>\n",
       "      <td>21.0</td>\n",
       "      <td>3.0</td>\n",
       "      <td>0.0</td>\n",
       "    </tr>\n",
       "    <tr>\n",
       "      <th>1</th>\n",
       "      <td>Октябрьский</td>\n",
       "      <td>11.0</td>\n",
       "      <td>140.0</td>\n",
       "      <td>31.0</td>\n",
       "      <td>14.0</td>\n",
       "      <td>4.0</td>\n",
       "      <td>0.0</td>\n",
       "    </tr>\n",
       "    <tr>\n",
       "      <th>2</th>\n",
       "      <td>Правобережный</td>\n",
       "      <td>0.0</td>\n",
       "      <td>168.0</td>\n",
       "      <td>11.0</td>\n",
       "      <td>11.0</td>\n",
       "      <td>5.0</td>\n",
       "      <td>0.0</td>\n",
       "    </tr>\n",
       "    <tr>\n",
       "      <th>3</th>\n",
       "      <td>Свердловский</td>\n",
       "      <td>7.0</td>\n",
       "      <td>99.0</td>\n",
       "      <td>45.0</td>\n",
       "      <td>17.0</td>\n",
       "      <td>3.0</td>\n",
       "      <td>1.0</td>\n",
       "    </tr>\n",
       "  </tbody>\n",
       "</table>\n",
       "</div>"
      ],
      "text/plain": [
       "rooms       district     0      1     2     3    4    5\n",
       "0          Ленинский   3.0  132.0  41.0  21.0  3.0  0.0\n",
       "1        Октябрьский  11.0  140.0  31.0  14.0  4.0  0.0\n",
       "2      Правобережный   0.0  168.0  11.0  11.0  5.0  0.0\n",
       "3       Свердловский   7.0   99.0  45.0  17.0  3.0  1.0"
      ]
     },
     "metadata": {},
     "output_type": "display_data"
    },
    {
     "name": "stdout",
     "output_type": "stream",
     "text": [
      "<class 'pandas.core.frame.DataFrame'>\n",
      "RangeIndex: 4 entries, 0 to 3\n",
      "Data columns (total 7 columns):\n",
      " #   Column    Non-Null Count  Dtype  \n",
      "---  ------    --------------  -----  \n",
      " 0   district  4 non-null      object \n",
      " 1   0         4 non-null      float64\n",
      " 2   1         4 non-null      float64\n",
      " 3   2         4 non-null      float64\n",
      " 4   3         4 non-null      float64\n",
      " 5   4         4 non-null      float64\n",
      " 6   5         4 non-null      float64\n",
      "dtypes: float64(6), object(1)\n",
      "memory usage: 352.0+ bytes\n"
     ]
    },
    {
     "data": {
      "text/plain": [
       "None"
      ]
     },
     "metadata": {},
     "output_type": "display_data"
    }
   ],
   "source": [
    "data_district = data_district.fillna(0)\n",
    "display(data_district)\n",
    "display(data_district.info())"
   ]
  },
  {
   "cell_type": "code",
   "execution_count": 34,
   "id": "e558eefe",
   "metadata": {},
   "outputs": [
    {
     "data": {
      "application/vnd.plotly.v1+json": {
       "config": {
        "plotlyServerURL": "https://plot.ly"
       },
       "data": [
        {
         "alignmentgroup": "True",
         "bingroup": "y",
         "histfunc": "sum",
         "hovertemplate": "variable=0<br>sum of value=%{x}<br>district=%{y}<extra></extra>",
         "legendgroup": "0",
         "marker": {
          "color": "#636efa",
          "pattern": {
           "shape": ""
          }
         },
         "name": "0",
         "offsetgroup": "0",
         "orientation": "h",
         "showlegend": true,
         "type": "histogram",
         "x": [
          3,
          11,
          0,
          7
         ],
         "xaxis": "x",
         "y": [
          "Ленинский",
          "Октябрьский",
          "Правобережный",
          "Свердловский"
         ],
         "yaxis": "y"
        },
        {
         "alignmentgroup": "True",
         "bingroup": "y",
         "histfunc": "sum",
         "hovertemplate": "variable=1<br>sum of value=%{x}<br>district=%{y}<extra></extra>",
         "legendgroup": "1",
         "marker": {
          "color": "#EF553B",
          "pattern": {
           "shape": ""
          }
         },
         "name": "1",
         "offsetgroup": "1",
         "orientation": "h",
         "showlegend": true,
         "type": "histogram",
         "x": [
          132,
          140,
          168,
          99
         ],
         "xaxis": "x",
         "y": [
          "Ленинский",
          "Октябрьский",
          "Правобережный",
          "Свердловский"
         ],
         "yaxis": "y"
        },
        {
         "alignmentgroup": "True",
         "bingroup": "y",
         "histfunc": "sum",
         "hovertemplate": "variable=2<br>sum of value=%{x}<br>district=%{y}<extra></extra>",
         "legendgroup": "2",
         "marker": {
          "color": "#00cc96",
          "pattern": {
           "shape": ""
          }
         },
         "name": "2",
         "offsetgroup": "2",
         "orientation": "h",
         "showlegend": true,
         "type": "histogram",
         "x": [
          41,
          31,
          11,
          45
         ],
         "xaxis": "x",
         "y": [
          "Ленинский",
          "Октябрьский",
          "Правобережный",
          "Свердловский"
         ],
         "yaxis": "y"
        },
        {
         "alignmentgroup": "True",
         "bingroup": "y",
         "histfunc": "sum",
         "hovertemplate": "variable=3<br>sum of value=%{x}<br>district=%{y}<extra></extra>",
         "legendgroup": "3",
         "marker": {
          "color": "#ab63fa",
          "pattern": {
           "shape": ""
          }
         },
         "name": "3",
         "offsetgroup": "3",
         "orientation": "h",
         "showlegend": true,
         "type": "histogram",
         "x": [
          21,
          14,
          11,
          17
         ],
         "xaxis": "x",
         "y": [
          "Ленинский",
          "Октябрьский",
          "Правобережный",
          "Свердловский"
         ],
         "yaxis": "y"
        },
        {
         "alignmentgroup": "True",
         "bingroup": "y",
         "histfunc": "sum",
         "hovertemplate": "variable=4<br>sum of value=%{x}<br>district=%{y}<extra></extra>",
         "legendgroup": "4",
         "marker": {
          "color": "#FFA15A",
          "pattern": {
           "shape": ""
          }
         },
         "name": "4",
         "offsetgroup": "4",
         "orientation": "h",
         "showlegend": true,
         "type": "histogram",
         "x": [
          3,
          4,
          5,
          3
         ],
         "xaxis": "x",
         "y": [
          "Ленинский",
          "Октябрьский",
          "Правобережный",
          "Свердловский"
         ],
         "yaxis": "y"
        },
        {
         "alignmentgroup": "True",
         "bingroup": "y",
         "histfunc": "sum",
         "hovertemplate": "variable=5<br>sum of value=%{x}<br>district=%{y}<extra></extra>",
         "legendgroup": "5",
         "marker": {
          "color": "#19d3f3",
          "pattern": {
           "shape": ""
          }
         },
         "name": "5",
         "offsetgroup": "5",
         "orientation": "h",
         "showlegend": true,
         "type": "histogram",
         "x": [
          0,
          0,
          0,
          1
         ],
         "xaxis": "x",
         "y": [
          "Ленинский",
          "Октябрьский",
          "Правобережный",
          "Свердловский"
         ],
         "yaxis": "y"
        }
       ],
       "layout": {
        "barmode": "relative",
        "legend": {
         "title": {
          "text": "variable"
         },
         "tracegroupgap": 0
        },
        "template": {
         "data": {
          "bar": [
           {
            "error_x": {
             "color": "#2a3f5f"
            },
            "error_y": {
             "color": "#2a3f5f"
            },
            "marker": {
             "line": {
              "color": "#E5ECF6",
              "width": 0.5
             },
             "pattern": {
              "fillmode": "overlay",
              "size": 10,
              "solidity": 0.2
             }
            },
            "type": "bar"
           }
          ],
          "barpolar": [
           {
            "marker": {
             "line": {
              "color": "#E5ECF6",
              "width": 0.5
             },
             "pattern": {
              "fillmode": "overlay",
              "size": 10,
              "solidity": 0.2
             }
            },
            "type": "barpolar"
           }
          ],
          "carpet": [
           {
            "aaxis": {
             "endlinecolor": "#2a3f5f",
             "gridcolor": "white",
             "linecolor": "white",
             "minorgridcolor": "white",
             "startlinecolor": "#2a3f5f"
            },
            "baxis": {
             "endlinecolor": "#2a3f5f",
             "gridcolor": "white",
             "linecolor": "white",
             "minorgridcolor": "white",
             "startlinecolor": "#2a3f5f"
            },
            "type": "carpet"
           }
          ],
          "choropleth": [
           {
            "colorbar": {
             "outlinewidth": 0,
             "ticks": ""
            },
            "type": "choropleth"
           }
          ],
          "contour": [
           {
            "colorbar": {
             "outlinewidth": 0,
             "ticks": ""
            },
            "colorscale": [
             [
              0,
              "#0d0887"
             ],
             [
              0.1111111111111111,
              "#46039f"
             ],
             [
              0.2222222222222222,
              "#7201a8"
             ],
             [
              0.3333333333333333,
              "#9c179e"
             ],
             [
              0.4444444444444444,
              "#bd3786"
             ],
             [
              0.5555555555555556,
              "#d8576b"
             ],
             [
              0.6666666666666666,
              "#ed7953"
             ],
             [
              0.7777777777777778,
              "#fb9f3a"
             ],
             [
              0.8888888888888888,
              "#fdca26"
             ],
             [
              1,
              "#f0f921"
             ]
            ],
            "type": "contour"
           }
          ],
          "contourcarpet": [
           {
            "colorbar": {
             "outlinewidth": 0,
             "ticks": ""
            },
            "type": "contourcarpet"
           }
          ],
          "heatmap": [
           {
            "colorbar": {
             "outlinewidth": 0,
             "ticks": ""
            },
            "colorscale": [
             [
              0,
              "#0d0887"
             ],
             [
              0.1111111111111111,
              "#46039f"
             ],
             [
              0.2222222222222222,
              "#7201a8"
             ],
             [
              0.3333333333333333,
              "#9c179e"
             ],
             [
              0.4444444444444444,
              "#bd3786"
             ],
             [
              0.5555555555555556,
              "#d8576b"
             ],
             [
              0.6666666666666666,
              "#ed7953"
             ],
             [
              0.7777777777777778,
              "#fb9f3a"
             ],
             [
              0.8888888888888888,
              "#fdca26"
             ],
             [
              1,
              "#f0f921"
             ]
            ],
            "type": "heatmap"
           }
          ],
          "heatmapgl": [
           {
            "colorbar": {
             "outlinewidth": 0,
             "ticks": ""
            },
            "colorscale": [
             [
              0,
              "#0d0887"
             ],
             [
              0.1111111111111111,
              "#46039f"
             ],
             [
              0.2222222222222222,
              "#7201a8"
             ],
             [
              0.3333333333333333,
              "#9c179e"
             ],
             [
              0.4444444444444444,
              "#bd3786"
             ],
             [
              0.5555555555555556,
              "#d8576b"
             ],
             [
              0.6666666666666666,
              "#ed7953"
             ],
             [
              0.7777777777777778,
              "#fb9f3a"
             ],
             [
              0.8888888888888888,
              "#fdca26"
             ],
             [
              1,
              "#f0f921"
             ]
            ],
            "type": "heatmapgl"
           }
          ],
          "histogram": [
           {
            "marker": {
             "pattern": {
              "fillmode": "overlay",
              "size": 10,
              "solidity": 0.2
             }
            },
            "type": "histogram"
           }
          ],
          "histogram2d": [
           {
            "colorbar": {
             "outlinewidth": 0,
             "ticks": ""
            },
            "colorscale": [
             [
              0,
              "#0d0887"
             ],
             [
              0.1111111111111111,
              "#46039f"
             ],
             [
              0.2222222222222222,
              "#7201a8"
             ],
             [
              0.3333333333333333,
              "#9c179e"
             ],
             [
              0.4444444444444444,
              "#bd3786"
             ],
             [
              0.5555555555555556,
              "#d8576b"
             ],
             [
              0.6666666666666666,
              "#ed7953"
             ],
             [
              0.7777777777777778,
              "#fb9f3a"
             ],
             [
              0.8888888888888888,
              "#fdca26"
             ],
             [
              1,
              "#f0f921"
             ]
            ],
            "type": "histogram2d"
           }
          ],
          "histogram2dcontour": [
           {
            "colorbar": {
             "outlinewidth": 0,
             "ticks": ""
            },
            "colorscale": [
             [
              0,
              "#0d0887"
             ],
             [
              0.1111111111111111,
              "#46039f"
             ],
             [
              0.2222222222222222,
              "#7201a8"
             ],
             [
              0.3333333333333333,
              "#9c179e"
             ],
             [
              0.4444444444444444,
              "#bd3786"
             ],
             [
              0.5555555555555556,
              "#d8576b"
             ],
             [
              0.6666666666666666,
              "#ed7953"
             ],
             [
              0.7777777777777778,
              "#fb9f3a"
             ],
             [
              0.8888888888888888,
              "#fdca26"
             ],
             [
              1,
              "#f0f921"
             ]
            ],
            "type": "histogram2dcontour"
           }
          ],
          "mesh3d": [
           {
            "colorbar": {
             "outlinewidth": 0,
             "ticks": ""
            },
            "type": "mesh3d"
           }
          ],
          "parcoords": [
           {
            "line": {
             "colorbar": {
              "outlinewidth": 0,
              "ticks": ""
             }
            },
            "type": "parcoords"
           }
          ],
          "pie": [
           {
            "automargin": true,
            "type": "pie"
           }
          ],
          "scatter": [
           {
            "fillpattern": {
             "fillmode": "overlay",
             "size": 10,
             "solidity": 0.2
            },
            "type": "scatter"
           }
          ],
          "scatter3d": [
           {
            "line": {
             "colorbar": {
              "outlinewidth": 0,
              "ticks": ""
             }
            },
            "marker": {
             "colorbar": {
              "outlinewidth": 0,
              "ticks": ""
             }
            },
            "type": "scatter3d"
           }
          ],
          "scattercarpet": [
           {
            "marker": {
             "colorbar": {
              "outlinewidth": 0,
              "ticks": ""
             }
            },
            "type": "scattercarpet"
           }
          ],
          "scattergeo": [
           {
            "marker": {
             "colorbar": {
              "outlinewidth": 0,
              "ticks": ""
             }
            },
            "type": "scattergeo"
           }
          ],
          "scattergl": [
           {
            "marker": {
             "colorbar": {
              "outlinewidth": 0,
              "ticks": ""
             }
            },
            "type": "scattergl"
           }
          ],
          "scattermapbox": [
           {
            "marker": {
             "colorbar": {
              "outlinewidth": 0,
              "ticks": ""
             }
            },
            "type": "scattermapbox"
           }
          ],
          "scatterpolar": [
           {
            "marker": {
             "colorbar": {
              "outlinewidth": 0,
              "ticks": ""
             }
            },
            "type": "scatterpolar"
           }
          ],
          "scatterpolargl": [
           {
            "marker": {
             "colorbar": {
              "outlinewidth": 0,
              "ticks": ""
             }
            },
            "type": "scatterpolargl"
           }
          ],
          "scatterternary": [
           {
            "marker": {
             "colorbar": {
              "outlinewidth": 0,
              "ticks": ""
             }
            },
            "type": "scatterternary"
           }
          ],
          "surface": [
           {
            "colorbar": {
             "outlinewidth": 0,
             "ticks": ""
            },
            "colorscale": [
             [
              0,
              "#0d0887"
             ],
             [
              0.1111111111111111,
              "#46039f"
             ],
             [
              0.2222222222222222,
              "#7201a8"
             ],
             [
              0.3333333333333333,
              "#9c179e"
             ],
             [
              0.4444444444444444,
              "#bd3786"
             ],
             [
              0.5555555555555556,
              "#d8576b"
             ],
             [
              0.6666666666666666,
              "#ed7953"
             ],
             [
              0.7777777777777778,
              "#fb9f3a"
             ],
             [
              0.8888888888888888,
              "#fdca26"
             ],
             [
              1,
              "#f0f921"
             ]
            ],
            "type": "surface"
           }
          ],
          "table": [
           {
            "cells": {
             "fill": {
              "color": "#EBF0F8"
             },
             "line": {
              "color": "white"
             }
            },
            "header": {
             "fill": {
              "color": "#C8D4E3"
             },
             "line": {
              "color": "white"
             }
            },
            "type": "table"
           }
          ]
         },
         "layout": {
          "annotationdefaults": {
           "arrowcolor": "#2a3f5f",
           "arrowhead": 0,
           "arrowwidth": 1
          },
          "autotypenumbers": "strict",
          "coloraxis": {
           "colorbar": {
            "outlinewidth": 0,
            "ticks": ""
           }
          },
          "colorscale": {
           "diverging": [
            [
             0,
             "#8e0152"
            ],
            [
             0.1,
             "#c51b7d"
            ],
            [
             0.2,
             "#de77ae"
            ],
            [
             0.3,
             "#f1b6da"
            ],
            [
             0.4,
             "#fde0ef"
            ],
            [
             0.5,
             "#f7f7f7"
            ],
            [
             0.6,
             "#e6f5d0"
            ],
            [
             0.7,
             "#b8e186"
            ],
            [
             0.8,
             "#7fbc41"
            ],
            [
             0.9,
             "#4d9221"
            ],
            [
             1,
             "#276419"
            ]
           ],
           "sequential": [
            [
             0,
             "#0d0887"
            ],
            [
             0.1111111111111111,
             "#46039f"
            ],
            [
             0.2222222222222222,
             "#7201a8"
            ],
            [
             0.3333333333333333,
             "#9c179e"
            ],
            [
             0.4444444444444444,
             "#bd3786"
            ],
            [
             0.5555555555555556,
             "#d8576b"
            ],
            [
             0.6666666666666666,
             "#ed7953"
            ],
            [
             0.7777777777777778,
             "#fb9f3a"
            ],
            [
             0.8888888888888888,
             "#fdca26"
            ],
            [
             1,
             "#f0f921"
            ]
           ],
           "sequentialminus": [
            [
             0,
             "#0d0887"
            ],
            [
             0.1111111111111111,
             "#46039f"
            ],
            [
             0.2222222222222222,
             "#7201a8"
            ],
            [
             0.3333333333333333,
             "#9c179e"
            ],
            [
             0.4444444444444444,
             "#bd3786"
            ],
            [
             0.5555555555555556,
             "#d8576b"
            ],
            [
             0.6666666666666666,
             "#ed7953"
            ],
            [
             0.7777777777777778,
             "#fb9f3a"
            ],
            [
             0.8888888888888888,
             "#fdca26"
            ],
            [
             1,
             "#f0f921"
            ]
           ]
          },
          "colorway": [
           "#636efa",
           "#EF553B",
           "#00cc96",
           "#ab63fa",
           "#FFA15A",
           "#19d3f3",
           "#FF6692",
           "#B6E880",
           "#FF97FF",
           "#FECB52"
          ],
          "font": {
           "color": "#2a3f5f"
          },
          "geo": {
           "bgcolor": "white",
           "lakecolor": "white",
           "landcolor": "#E5ECF6",
           "showlakes": true,
           "showland": true,
           "subunitcolor": "white"
          },
          "hoverlabel": {
           "align": "left"
          },
          "hovermode": "closest",
          "mapbox": {
           "style": "light"
          },
          "paper_bgcolor": "white",
          "plot_bgcolor": "#E5ECF6",
          "polar": {
           "angularaxis": {
            "gridcolor": "white",
            "linecolor": "white",
            "ticks": ""
           },
           "bgcolor": "#E5ECF6",
           "radialaxis": {
            "gridcolor": "white",
            "linecolor": "white",
            "ticks": ""
           }
          },
          "scene": {
           "xaxis": {
            "backgroundcolor": "#E5ECF6",
            "gridcolor": "white",
            "gridwidth": 2,
            "linecolor": "white",
            "showbackground": true,
            "ticks": "",
            "zerolinecolor": "white"
           },
           "yaxis": {
            "backgroundcolor": "#E5ECF6",
            "gridcolor": "white",
            "gridwidth": 2,
            "linecolor": "white",
            "showbackground": true,
            "ticks": "",
            "zerolinecolor": "white"
           },
           "zaxis": {
            "backgroundcolor": "#E5ECF6",
            "gridcolor": "white",
            "gridwidth": 2,
            "linecolor": "white",
            "showbackground": true,
            "ticks": "",
            "zerolinecolor": "white"
           }
          },
          "shapedefaults": {
           "line": {
            "color": "#2a3f5f"
           }
          },
          "ternary": {
           "aaxis": {
            "gridcolor": "white",
            "linecolor": "white",
            "ticks": ""
           },
           "baxis": {
            "gridcolor": "white",
            "linecolor": "white",
            "ticks": ""
           },
           "bgcolor": "#E5ECF6",
           "caxis": {
            "gridcolor": "white",
            "linecolor": "white",
            "ticks": ""
           }
          },
          "title": {
           "x": 0.05
          },
          "xaxis": {
           "automargin": true,
           "gridcolor": "white",
           "linecolor": "white",
           "ticks": "",
           "title": {
            "standoff": 15
           },
           "zerolinecolor": "white",
           "zerolinewidth": 2
          },
          "yaxis": {
           "automargin": true,
           "gridcolor": "white",
           "linecolor": "white",
           "ticks": "",
           "title": {
            "standoff": 15
           },
           "zerolinecolor": "white",
           "zerolinewidth": 2
          }
         }
        },
        "title": {
         "text": "Распределение"
        },
        "xaxis": {
         "anchor": "y",
         "domain": [
          0,
          1
         ],
         "title": {
          "text": "Количество комнат"
         }
        },
        "yaxis": {
         "anchor": "x",
         "domain": [
          0,
          1
         ],
         "title": {
          "text": "Районы"
         }
        }
       }
      },
      "text/html": [
       "<div>                            <div id=\"0a77020a-f01b-4b80-8381-a9d8c6259378\" class=\"plotly-graph-div\" style=\"height:525px; width:100%;\"></div>            <script type=\"text/javascript\">                require([\"plotly\"], function(Plotly) {                    window.PLOTLYENV=window.PLOTLYENV || {};                                    if (document.getElementById(\"0a77020a-f01b-4b80-8381-a9d8c6259378\")) {                    Plotly.newPlot(                        \"0a77020a-f01b-4b80-8381-a9d8c6259378\",                        [{\"alignmentgroup\":\"True\",\"bingroup\":\"y\",\"histfunc\":\"sum\",\"hovertemplate\":\"variable=0\\u003cbr\\u003esum of value=%{x}\\u003cbr\\u003edistrict=%{y}\\u003cextra\\u003e\\u003c\\u002fextra\\u003e\",\"legendgroup\":\"0\",\"marker\":{\"color\":\"#636efa\",\"pattern\":{\"shape\":\"\"}},\"name\":\"0\",\"offsetgroup\":\"0\",\"orientation\":\"h\",\"showlegend\":true,\"x\":[3.0,11.0,0.0,7.0],\"xaxis\":\"x\",\"y\":[\"\\u041b\\u0435\\u043d\\u0438\\u043d\\u0441\\u043a\\u0438\\u0439\",\"\\u041e\\u043a\\u0442\\u044f\\u0431\\u0440\\u044c\\u0441\\u043a\\u0438\\u0439\",\"\\u041f\\u0440\\u0430\\u0432\\u043e\\u0431\\u0435\\u0440\\u0435\\u0436\\u043d\\u044b\\u0439\",\"\\u0421\\u0432\\u0435\\u0440\\u0434\\u043b\\u043e\\u0432\\u0441\\u043a\\u0438\\u0439\"],\"yaxis\":\"y\",\"type\":\"histogram\"},{\"alignmentgroup\":\"True\",\"bingroup\":\"y\",\"histfunc\":\"sum\",\"hovertemplate\":\"variable=1\\u003cbr\\u003esum of value=%{x}\\u003cbr\\u003edistrict=%{y}\\u003cextra\\u003e\\u003c\\u002fextra\\u003e\",\"legendgroup\":\"1\",\"marker\":{\"color\":\"#EF553B\",\"pattern\":{\"shape\":\"\"}},\"name\":\"1\",\"offsetgroup\":\"1\",\"orientation\":\"h\",\"showlegend\":true,\"x\":[132.0,140.0,168.0,99.0],\"xaxis\":\"x\",\"y\":[\"\\u041b\\u0435\\u043d\\u0438\\u043d\\u0441\\u043a\\u0438\\u0439\",\"\\u041e\\u043a\\u0442\\u044f\\u0431\\u0440\\u044c\\u0441\\u043a\\u0438\\u0439\",\"\\u041f\\u0440\\u0430\\u0432\\u043e\\u0431\\u0435\\u0440\\u0435\\u0436\\u043d\\u044b\\u0439\",\"\\u0421\\u0432\\u0435\\u0440\\u0434\\u043b\\u043e\\u0432\\u0441\\u043a\\u0438\\u0439\"],\"yaxis\":\"y\",\"type\":\"histogram\"},{\"alignmentgroup\":\"True\",\"bingroup\":\"y\",\"histfunc\":\"sum\",\"hovertemplate\":\"variable=2\\u003cbr\\u003esum of value=%{x}\\u003cbr\\u003edistrict=%{y}\\u003cextra\\u003e\\u003c\\u002fextra\\u003e\",\"legendgroup\":\"2\",\"marker\":{\"color\":\"#00cc96\",\"pattern\":{\"shape\":\"\"}},\"name\":\"2\",\"offsetgroup\":\"2\",\"orientation\":\"h\",\"showlegend\":true,\"x\":[41.0,31.0,11.0,45.0],\"xaxis\":\"x\",\"y\":[\"\\u041b\\u0435\\u043d\\u0438\\u043d\\u0441\\u043a\\u0438\\u0439\",\"\\u041e\\u043a\\u0442\\u044f\\u0431\\u0440\\u044c\\u0441\\u043a\\u0438\\u0439\",\"\\u041f\\u0440\\u0430\\u0432\\u043e\\u0431\\u0435\\u0440\\u0435\\u0436\\u043d\\u044b\\u0439\",\"\\u0421\\u0432\\u0435\\u0440\\u0434\\u043b\\u043e\\u0432\\u0441\\u043a\\u0438\\u0439\"],\"yaxis\":\"y\",\"type\":\"histogram\"},{\"alignmentgroup\":\"True\",\"bingroup\":\"y\",\"histfunc\":\"sum\",\"hovertemplate\":\"variable=3\\u003cbr\\u003esum of value=%{x}\\u003cbr\\u003edistrict=%{y}\\u003cextra\\u003e\\u003c\\u002fextra\\u003e\",\"legendgroup\":\"3\",\"marker\":{\"color\":\"#ab63fa\",\"pattern\":{\"shape\":\"\"}},\"name\":\"3\",\"offsetgroup\":\"3\",\"orientation\":\"h\",\"showlegend\":true,\"x\":[21.0,14.0,11.0,17.0],\"xaxis\":\"x\",\"y\":[\"\\u041b\\u0435\\u043d\\u0438\\u043d\\u0441\\u043a\\u0438\\u0439\",\"\\u041e\\u043a\\u0442\\u044f\\u0431\\u0440\\u044c\\u0441\\u043a\\u0438\\u0439\",\"\\u041f\\u0440\\u0430\\u0432\\u043e\\u0431\\u0435\\u0440\\u0435\\u0436\\u043d\\u044b\\u0439\",\"\\u0421\\u0432\\u0435\\u0440\\u0434\\u043b\\u043e\\u0432\\u0441\\u043a\\u0438\\u0439\"],\"yaxis\":\"y\",\"type\":\"histogram\"},{\"alignmentgroup\":\"True\",\"bingroup\":\"y\",\"histfunc\":\"sum\",\"hovertemplate\":\"variable=4\\u003cbr\\u003esum of value=%{x}\\u003cbr\\u003edistrict=%{y}\\u003cextra\\u003e\\u003c\\u002fextra\\u003e\",\"legendgroup\":\"4\",\"marker\":{\"color\":\"#FFA15A\",\"pattern\":{\"shape\":\"\"}},\"name\":\"4\",\"offsetgroup\":\"4\",\"orientation\":\"h\",\"showlegend\":true,\"x\":[3.0,4.0,5.0,3.0],\"xaxis\":\"x\",\"y\":[\"\\u041b\\u0435\\u043d\\u0438\\u043d\\u0441\\u043a\\u0438\\u0439\",\"\\u041e\\u043a\\u0442\\u044f\\u0431\\u0440\\u044c\\u0441\\u043a\\u0438\\u0439\",\"\\u041f\\u0440\\u0430\\u0432\\u043e\\u0431\\u0435\\u0440\\u0435\\u0436\\u043d\\u044b\\u0439\",\"\\u0421\\u0432\\u0435\\u0440\\u0434\\u043b\\u043e\\u0432\\u0441\\u043a\\u0438\\u0439\"],\"yaxis\":\"y\",\"type\":\"histogram\"},{\"alignmentgroup\":\"True\",\"bingroup\":\"y\",\"histfunc\":\"sum\",\"hovertemplate\":\"variable=5\\u003cbr\\u003esum of value=%{x}\\u003cbr\\u003edistrict=%{y}\\u003cextra\\u003e\\u003c\\u002fextra\\u003e\",\"legendgroup\":\"5\",\"marker\":{\"color\":\"#19d3f3\",\"pattern\":{\"shape\":\"\"}},\"name\":\"5\",\"offsetgroup\":\"5\",\"orientation\":\"h\",\"showlegend\":true,\"x\":[0.0,0.0,0.0,1.0],\"xaxis\":\"x\",\"y\":[\"\\u041b\\u0435\\u043d\\u0438\\u043d\\u0441\\u043a\\u0438\\u0439\",\"\\u041e\\u043a\\u0442\\u044f\\u0431\\u0440\\u044c\\u0441\\u043a\\u0438\\u0439\",\"\\u041f\\u0440\\u0430\\u0432\\u043e\\u0431\\u0435\\u0440\\u0435\\u0436\\u043d\\u044b\\u0439\",\"\\u0421\\u0432\\u0435\\u0440\\u0434\\u043b\\u043e\\u0432\\u0441\\u043a\\u0438\\u0439\"],\"yaxis\":\"y\",\"type\":\"histogram\"}],                        {\"template\":{\"data\":{\"histogram2dcontour\":[{\"type\":\"histogram2dcontour\",\"colorbar\":{\"outlinewidth\":0,\"ticks\":\"\"},\"colorscale\":[[0.0,\"#0d0887\"],[0.1111111111111111,\"#46039f\"],[0.2222222222222222,\"#7201a8\"],[0.3333333333333333,\"#9c179e\"],[0.4444444444444444,\"#bd3786\"],[0.5555555555555556,\"#d8576b\"],[0.6666666666666666,\"#ed7953\"],[0.7777777777777778,\"#fb9f3a\"],[0.8888888888888888,\"#fdca26\"],[1.0,\"#f0f921\"]]}],\"choropleth\":[{\"type\":\"choropleth\",\"colorbar\":{\"outlinewidth\":0,\"ticks\":\"\"}}],\"histogram2d\":[{\"type\":\"histogram2d\",\"colorbar\":{\"outlinewidth\":0,\"ticks\":\"\"},\"colorscale\":[[0.0,\"#0d0887\"],[0.1111111111111111,\"#46039f\"],[0.2222222222222222,\"#7201a8\"],[0.3333333333333333,\"#9c179e\"],[0.4444444444444444,\"#bd3786\"],[0.5555555555555556,\"#d8576b\"],[0.6666666666666666,\"#ed7953\"],[0.7777777777777778,\"#fb9f3a\"],[0.8888888888888888,\"#fdca26\"],[1.0,\"#f0f921\"]]}],\"heatmap\":[{\"type\":\"heatmap\",\"colorbar\":{\"outlinewidth\":0,\"ticks\":\"\"},\"colorscale\":[[0.0,\"#0d0887\"],[0.1111111111111111,\"#46039f\"],[0.2222222222222222,\"#7201a8\"],[0.3333333333333333,\"#9c179e\"],[0.4444444444444444,\"#bd3786\"],[0.5555555555555556,\"#d8576b\"],[0.6666666666666666,\"#ed7953\"],[0.7777777777777778,\"#fb9f3a\"],[0.8888888888888888,\"#fdca26\"],[1.0,\"#f0f921\"]]}],\"heatmapgl\":[{\"type\":\"heatmapgl\",\"colorbar\":{\"outlinewidth\":0,\"ticks\":\"\"},\"colorscale\":[[0.0,\"#0d0887\"],[0.1111111111111111,\"#46039f\"],[0.2222222222222222,\"#7201a8\"],[0.3333333333333333,\"#9c179e\"],[0.4444444444444444,\"#bd3786\"],[0.5555555555555556,\"#d8576b\"],[0.6666666666666666,\"#ed7953\"],[0.7777777777777778,\"#fb9f3a\"],[0.8888888888888888,\"#fdca26\"],[1.0,\"#f0f921\"]]}],\"contourcarpet\":[{\"type\":\"contourcarpet\",\"colorbar\":{\"outlinewidth\":0,\"ticks\":\"\"}}],\"contour\":[{\"type\":\"contour\",\"colorbar\":{\"outlinewidth\":0,\"ticks\":\"\"},\"colorscale\":[[0.0,\"#0d0887\"],[0.1111111111111111,\"#46039f\"],[0.2222222222222222,\"#7201a8\"],[0.3333333333333333,\"#9c179e\"],[0.4444444444444444,\"#bd3786\"],[0.5555555555555556,\"#d8576b\"],[0.6666666666666666,\"#ed7953\"],[0.7777777777777778,\"#fb9f3a\"],[0.8888888888888888,\"#fdca26\"],[1.0,\"#f0f921\"]]}],\"surface\":[{\"type\":\"surface\",\"colorbar\":{\"outlinewidth\":0,\"ticks\":\"\"},\"colorscale\":[[0.0,\"#0d0887\"],[0.1111111111111111,\"#46039f\"],[0.2222222222222222,\"#7201a8\"],[0.3333333333333333,\"#9c179e\"],[0.4444444444444444,\"#bd3786\"],[0.5555555555555556,\"#d8576b\"],[0.6666666666666666,\"#ed7953\"],[0.7777777777777778,\"#fb9f3a\"],[0.8888888888888888,\"#fdca26\"],[1.0,\"#f0f921\"]]}],\"mesh3d\":[{\"type\":\"mesh3d\",\"colorbar\":{\"outlinewidth\":0,\"ticks\":\"\"}}],\"scatter\":[{\"fillpattern\":{\"fillmode\":\"overlay\",\"size\":10,\"solidity\":0.2},\"type\":\"scatter\"}],\"parcoords\":[{\"type\":\"parcoords\",\"line\":{\"colorbar\":{\"outlinewidth\":0,\"ticks\":\"\"}}}],\"scatterpolargl\":[{\"type\":\"scatterpolargl\",\"marker\":{\"colorbar\":{\"outlinewidth\":0,\"ticks\":\"\"}}}],\"bar\":[{\"error_x\":{\"color\":\"#2a3f5f\"},\"error_y\":{\"color\":\"#2a3f5f\"},\"marker\":{\"line\":{\"color\":\"#E5ECF6\",\"width\":0.5},\"pattern\":{\"fillmode\":\"overlay\",\"size\":10,\"solidity\":0.2}},\"type\":\"bar\"}],\"scattergeo\":[{\"type\":\"scattergeo\",\"marker\":{\"colorbar\":{\"outlinewidth\":0,\"ticks\":\"\"}}}],\"scatterpolar\":[{\"type\":\"scatterpolar\",\"marker\":{\"colorbar\":{\"outlinewidth\":0,\"ticks\":\"\"}}}],\"histogram\":[{\"marker\":{\"pattern\":{\"fillmode\":\"overlay\",\"size\":10,\"solidity\":0.2}},\"type\":\"histogram\"}],\"scattergl\":[{\"type\":\"scattergl\",\"marker\":{\"colorbar\":{\"outlinewidth\":0,\"ticks\":\"\"}}}],\"scatter3d\":[{\"type\":\"scatter3d\",\"line\":{\"colorbar\":{\"outlinewidth\":0,\"ticks\":\"\"}},\"marker\":{\"colorbar\":{\"outlinewidth\":0,\"ticks\":\"\"}}}],\"scattermapbox\":[{\"type\":\"scattermapbox\",\"marker\":{\"colorbar\":{\"outlinewidth\":0,\"ticks\":\"\"}}}],\"scatterternary\":[{\"type\":\"scatterternary\",\"marker\":{\"colorbar\":{\"outlinewidth\":0,\"ticks\":\"\"}}}],\"scattercarpet\":[{\"type\":\"scattercarpet\",\"marker\":{\"colorbar\":{\"outlinewidth\":0,\"ticks\":\"\"}}}],\"carpet\":[{\"aaxis\":{\"endlinecolor\":\"#2a3f5f\",\"gridcolor\":\"white\",\"linecolor\":\"white\",\"minorgridcolor\":\"white\",\"startlinecolor\":\"#2a3f5f\"},\"baxis\":{\"endlinecolor\":\"#2a3f5f\",\"gridcolor\":\"white\",\"linecolor\":\"white\",\"minorgridcolor\":\"white\",\"startlinecolor\":\"#2a3f5f\"},\"type\":\"carpet\"}],\"table\":[{\"cells\":{\"fill\":{\"color\":\"#EBF0F8\"},\"line\":{\"color\":\"white\"}},\"header\":{\"fill\":{\"color\":\"#C8D4E3\"},\"line\":{\"color\":\"white\"}},\"type\":\"table\"}],\"barpolar\":[{\"marker\":{\"line\":{\"color\":\"#E5ECF6\",\"width\":0.5},\"pattern\":{\"fillmode\":\"overlay\",\"size\":10,\"solidity\":0.2}},\"type\":\"barpolar\"}],\"pie\":[{\"automargin\":true,\"type\":\"pie\"}]},\"layout\":{\"autotypenumbers\":\"strict\",\"colorway\":[\"#636efa\",\"#EF553B\",\"#00cc96\",\"#ab63fa\",\"#FFA15A\",\"#19d3f3\",\"#FF6692\",\"#B6E880\",\"#FF97FF\",\"#FECB52\"],\"font\":{\"color\":\"#2a3f5f\"},\"hovermode\":\"closest\",\"hoverlabel\":{\"align\":\"left\"},\"paper_bgcolor\":\"white\",\"plot_bgcolor\":\"#E5ECF6\",\"polar\":{\"bgcolor\":\"#E5ECF6\",\"angularaxis\":{\"gridcolor\":\"white\",\"linecolor\":\"white\",\"ticks\":\"\"},\"radialaxis\":{\"gridcolor\":\"white\",\"linecolor\":\"white\",\"ticks\":\"\"}},\"ternary\":{\"bgcolor\":\"#E5ECF6\",\"aaxis\":{\"gridcolor\":\"white\",\"linecolor\":\"white\",\"ticks\":\"\"},\"baxis\":{\"gridcolor\":\"white\",\"linecolor\":\"white\",\"ticks\":\"\"},\"caxis\":{\"gridcolor\":\"white\",\"linecolor\":\"white\",\"ticks\":\"\"}},\"coloraxis\":{\"colorbar\":{\"outlinewidth\":0,\"ticks\":\"\"}},\"colorscale\":{\"sequential\":[[0.0,\"#0d0887\"],[0.1111111111111111,\"#46039f\"],[0.2222222222222222,\"#7201a8\"],[0.3333333333333333,\"#9c179e\"],[0.4444444444444444,\"#bd3786\"],[0.5555555555555556,\"#d8576b\"],[0.6666666666666666,\"#ed7953\"],[0.7777777777777778,\"#fb9f3a\"],[0.8888888888888888,\"#fdca26\"],[1.0,\"#f0f921\"]],\"sequentialminus\":[[0.0,\"#0d0887\"],[0.1111111111111111,\"#46039f\"],[0.2222222222222222,\"#7201a8\"],[0.3333333333333333,\"#9c179e\"],[0.4444444444444444,\"#bd3786\"],[0.5555555555555556,\"#d8576b\"],[0.6666666666666666,\"#ed7953\"],[0.7777777777777778,\"#fb9f3a\"],[0.8888888888888888,\"#fdca26\"],[1.0,\"#f0f921\"]],\"diverging\":[[0,\"#8e0152\"],[0.1,\"#c51b7d\"],[0.2,\"#de77ae\"],[0.3,\"#f1b6da\"],[0.4,\"#fde0ef\"],[0.5,\"#f7f7f7\"],[0.6,\"#e6f5d0\"],[0.7,\"#b8e186\"],[0.8,\"#7fbc41\"],[0.9,\"#4d9221\"],[1,\"#276419\"]]},\"xaxis\":{\"gridcolor\":\"white\",\"linecolor\":\"white\",\"ticks\":\"\",\"title\":{\"standoff\":15},\"zerolinecolor\":\"white\",\"automargin\":true,\"zerolinewidth\":2},\"yaxis\":{\"gridcolor\":\"white\",\"linecolor\":\"white\",\"ticks\":\"\",\"title\":{\"standoff\":15},\"zerolinecolor\":\"white\",\"automargin\":true,\"zerolinewidth\":2},\"scene\":{\"xaxis\":{\"backgroundcolor\":\"#E5ECF6\",\"gridcolor\":\"white\",\"linecolor\":\"white\",\"showbackground\":true,\"ticks\":\"\",\"zerolinecolor\":\"white\",\"gridwidth\":2},\"yaxis\":{\"backgroundcolor\":\"#E5ECF6\",\"gridcolor\":\"white\",\"linecolor\":\"white\",\"showbackground\":true,\"ticks\":\"\",\"zerolinecolor\":\"white\",\"gridwidth\":2},\"zaxis\":{\"backgroundcolor\":\"#E5ECF6\",\"gridcolor\":\"white\",\"linecolor\":\"white\",\"showbackground\":true,\"ticks\":\"\",\"zerolinecolor\":\"white\",\"gridwidth\":2}},\"shapedefaults\":{\"line\":{\"color\":\"#2a3f5f\"}},\"annotationdefaults\":{\"arrowcolor\":\"#2a3f5f\",\"arrowhead\":0,\"arrowwidth\":1},\"geo\":{\"bgcolor\":\"white\",\"landcolor\":\"#E5ECF6\",\"subunitcolor\":\"white\",\"showland\":true,\"showlakes\":true,\"lakecolor\":\"white\"},\"title\":{\"x\":0.05},\"mapbox\":{\"style\":\"light\"}}},\"xaxis\":{\"anchor\":\"y\",\"domain\":[0.0,1.0],\"title\":{\"text\":\"\\u041a\\u043e\\u043b\\u0438\\u0447\\u0435\\u0441\\u0442\\u0432\\u043e \\u043a\\u043e\\u043c\\u043d\\u0430\\u0442\"}},\"yaxis\":{\"anchor\":\"x\",\"domain\":[0.0,1.0],\"title\":{\"text\":\"\\u0420\\u0430\\u0439\\u043e\\u043d\\u044b\"}},\"legend\":{\"title\":{\"text\":\"variable\"},\"tracegroupgap\":0},\"title\":{\"text\":\"\\u0420\\u0430\\u0441\\u043f\\u0440\\u0435\\u0434\\u0435\\u043b\\u0435\\u043d\\u0438\\u0435\"},\"barmode\":\"relative\"},                        {\"responsive\": true}                    ).then(function(){\n",
       "                            \n",
       "var gd = document.getElementById('0a77020a-f01b-4b80-8381-a9d8c6259378');\n",
       "var x = new MutationObserver(function (mutations, observer) {{\n",
       "        var display = window.getComputedStyle(gd).display;\n",
       "        if (!display || display === 'none') {{\n",
       "            console.log([gd, 'removed!']);\n",
       "            Plotly.purge(gd);\n",
       "            observer.disconnect();\n",
       "        }}\n",
       "}});\n",
       "\n",
       "// Listen for the removal of the full notebook cells\n",
       "var notebookContainer = gd.closest('#notebook-container');\n",
       "if (notebookContainer) {{\n",
       "    x.observe(notebookContainer, {childList: true});\n",
       "}}\n",
       "\n",
       "// Listen for the clearing of the current output cell\n",
       "var outputEl = gd.closest('.output');\n",
       "if (outputEl) {{\n",
       "    x.observe(outputEl, {childList: true});\n",
       "}}\n",
       "\n",
       "                        })                };                });            </script>        </div>"
      ]
     },
     "metadata": {},
     "output_type": "display_data"
    }
   ],
   "source": [
    "# строим гистограммы \n",
    "\n",
    "fig = px.histogram(data_district, # загружаем данные \n",
    "                   x=[0, 1, 2, 3, 4, 5], # указываем столбец с данными для оси X \n",
    "                   y= 'district',\n",
    "                   title='Распределение') # указываем заголовок \n",
    "fig.update_layout(yaxis_title ='Районы') # подпись для оси X \n",
    "fig.update_layout(xaxis_title ='Количество комнат') # подпись для оси Y \n",
    "fig.show(); # выводим график"
   ]
  },
  {
   "cell_type": "code",
   "execution_count": 35,
   "id": "c404338c",
   "metadata": {},
   "outputs": [
    {
     "data": {
      "text/plain": [
       "count         767.0\n",
       "mean      6213311.0\n",
       "std       2839858.0\n",
       "min       1247700.0\n",
       "25%       5131715.0\n",
       "50%       5581080.0\n",
       "75%       6019323.0\n",
       "max      45000000.0\n",
       "Name: price, dtype: float64"
      ]
     },
     "execution_count": 35,
     "metadata": {},
     "output_type": "execute_result"
    }
   ],
   "source": [
    "data['price'].describe().round()"
   ]
  },
  {
   "cell_type": "markdown",
   "id": "2f6daae9",
   "metadata": {},
   "source": []
  },
  {
   "cell_type": "code",
   "execution_count": null,
   "id": "199b2363",
   "metadata": {},
   "outputs": [],
   "source": []
  }
 ],
 "metadata": {
  "kernelspec": {
   "display_name": "Python 3 (ipykernel)",
   "language": "python",
   "name": "python3"
  },
  "language_info": {
   "codemirror_mode": {
    "name": "ipython",
    "version": 3
   },
   "file_extension": ".py",
   "mimetype": "text/x-python",
   "name": "python",
   "nbconvert_exporter": "python",
   "pygments_lexer": "ipython3",
   "version": "3.9.18"
  }
 },
 "nbformat": 4,
 "nbformat_minor": 5
}
